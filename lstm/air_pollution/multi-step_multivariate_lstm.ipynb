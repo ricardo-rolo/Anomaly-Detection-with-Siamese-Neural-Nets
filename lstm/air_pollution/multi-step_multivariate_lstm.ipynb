{
 "cells": [
  {
   "cell_type": "code",
   "execution_count": 1,
   "metadata": {
    "collapsed": true
   },
   "outputs": [],
   "source": [
    "from math import sqrt\n",
    "from numpy import concatenate\n",
    "from matplotlib import pyplot\n",
    "from pandas import read_csv\n",
    "from pandas import DataFrame\n",
    "from pandas import concat\n",
    "from sklearn.preprocessing import MinMaxScaler\n",
    "from sklearn.preprocessing import LabelEncoder\n",
    "from sklearn.metrics import mean_squared_error\n",
    "from keras.models import Sequential\n",
    "from keras.layers import Dense\n",
    "from keras.layers import LSTM\n",
    "from keras.utils import to_categorical\n",
    "import numpy as np\n",
    "\n",
    "# convert series to supervised learning\n",
    "def series_to_supervised(data, n_in=1, n_out=1, dropnan=True):\n",
    "    n_vars = 1 if type(data) is list else data.shape[1]\n",
    "    df = DataFrame(data)\n",
    "    cols, names = list(), list()\n",
    "    # input sequence (t-n, ... t-1)\n",
    "    for i in range(n_in, 0, -1):\n",
    "        cols.append(df.shift(i))\n",
    "        names += [('var%d(t-%d)' % (j+1, i)) for j in range(n_vars)]\n",
    "    # forecast sequence (t, t+1, ... t+n)\n",
    "    for i in range(0, n_out):\n",
    "        cols.append(df.shift(-i))\n",
    "        if i == 0:\n",
    "            names += [('var%d(t)' % (j+1)) for j in range(n_vars)]\n",
    "        else:\n",
    "            names += [('var%d(t+%d)' % (j+1, i)) for j in range(n_vars)]\n",
    "    # put it all together\n",
    "    agg = concat(cols, axis=1)\n",
    "    agg.columns = names\n",
    "    # drop rows with NaN values\n",
    "    if dropnan:\n",
    "        agg.dropna(inplace=True)\n",
    "    return agg"
   ]
  },
  {
   "cell_type": "code",
   "execution_count": 2,
   "outputs": [
    {
     "name": "stdout",
     "output_type": "stream",
     "text": [
      "(43797, 44)\n"
     ]
    }
   ],
   "source": [
    "# load dataset\n",
    "dataset = read_csv('../../data/pollution.csv', header=0, index_col=0)\n",
    "values = dataset.values\n",
    "# integer encode direction\n",
    "lbl_encoder = LabelEncoder()\n",
    "values[:,4] = lbl_encoder.fit_transform(values[:,4])\n",
    "onehot_encoded = to_categorical(values[:,4])\n",
    "values = np.hstack((values, onehot_encoded))\n",
    "values = np.delete(values, 3, 1)\n",
    "# ensure all data is float\n",
    "values = values.astype('float32')\n",
    "# normalize features\n",
    "scaler = MinMaxScaler(feature_range=(0, 1))\n",
    "scaled = scaler.fit_transform(values)\n",
    "n_hours = 3\n",
    "n_features = 11\n",
    "# frame as supervised learning\n",
    "reframed = series_to_supervised(scaled, n_hours, 1)\n",
    "print(reframed.shape)"
   ],
   "metadata": {
    "collapsed": false
   }
  },
  {
   "cell_type": "code",
   "execution_count": 3,
   "outputs": [
    {
     "name": "stdout",
     "output_type": "stream",
     "text": [
      "(8760, 33) 8760 (8760,)\n"
     ]
    }
   ],
   "source": [
    "# split into train and test sets\n",
    "values = reframed.values\n",
    "n_train_hours = 365 * 24\n",
    "train = values[:n_train_hours, :]\n",
    "test = values[n_train_hours:, :]\n",
    "# split into input and outputs\n",
    "n_obs = n_hours * n_features\n",
    "train_X, train_y = train[:, :n_obs], train[:, -n_features]\n",
    "test_X, test_y = test[:, :n_obs], test[:, -n_features]\n",
    "print(train_X.shape, len(train_X), train_y.shape)"
   ],
   "metadata": {
    "collapsed": false
   }
  },
  {
   "cell_type": "code",
   "execution_count": 4,
   "outputs": [
    {
     "name": "stdout",
     "output_type": "stream",
     "text": [
      "(8760, 3, 11) (8760,) (35037, 3, 11) (35037,)\n"
     ]
    }
   ],
   "source": [
    "# reshape input to be 3D [samples, timesteps, features]\n",
    "train_X = train_X.reshape((train_X.shape[0], n_hours, n_features))\n",
    "test_X = test_X.reshape((test_X.shape[0], n_hours, n_features))\n",
    "print(train_X.shape, train_y.shape, test_X.shape, test_y.shape)"
   ],
   "metadata": {
    "collapsed": false
   }
  },
  {
   "cell_type": "code",
   "execution_count": 5,
   "outputs": [
    {
     "name": "stdout",
     "output_type": "stream",
     "text": [
      "Epoch 1/50\n",
      "122/122 - 3s - loss: 0.0569 - val_loss: 0.0650 - 3s/epoch - 24ms/step\n",
      "Epoch 2/50\n",
      "122/122 - 1s - loss: 0.0318 - val_loss: 0.0503 - 774ms/epoch - 6ms/step\n",
      "Epoch 3/50\n",
      "122/122 - 1s - loss: 0.0224 - val_loss: 0.0425 - 791ms/epoch - 6ms/step\n",
      "Epoch 4/50\n",
      "122/122 - 1s - loss: 0.0214 - val_loss: 0.0322 - 722ms/epoch - 6ms/step\n",
      "Epoch 5/50\n",
      "122/122 - 1s - loss: 0.0205 - val_loss: 0.0251 - 692ms/epoch - 6ms/step\n",
      "Epoch 6/50\n",
      "122/122 - 1s - loss: 0.0202 - val_loss: 0.0247 - 685ms/epoch - 6ms/step\n",
      "Epoch 7/50\n",
      "122/122 - 1s - loss: 0.0194 - val_loss: 0.0223 - 702ms/epoch - 6ms/step\n",
      "Epoch 8/50\n",
      "122/122 - 1s - loss: 0.0193 - val_loss: 0.0210 - 729ms/epoch - 6ms/step\n",
      "Epoch 9/50\n",
      "122/122 - 1s - loss: 0.0187 - val_loss: 0.0192 - 686ms/epoch - 6ms/step\n",
      "Epoch 10/50\n",
      "122/122 - 1s - loss: 0.0185 - val_loss: 0.0201 - 657ms/epoch - 5ms/step\n",
      "Epoch 11/50\n",
      "122/122 - 1s - loss: 0.0180 - val_loss: 0.0185 - 651ms/epoch - 5ms/step\n",
      "Epoch 12/50\n",
      "122/122 - 1s - loss: 0.0177 - val_loss: 0.0176 - 672ms/epoch - 6ms/step\n",
      "Epoch 13/50\n",
      "122/122 - 1s - loss: 0.0175 - val_loss: 0.0172 - 648ms/epoch - 5ms/step\n",
      "Epoch 14/50\n",
      "122/122 - 1s - loss: 0.0170 - val_loss: 0.0171 - 692ms/epoch - 6ms/step\n",
      "Epoch 15/50\n",
      "122/122 - 1s - loss: 0.0170 - val_loss: 0.0166 - 732ms/epoch - 6ms/step\n",
      "Epoch 16/50\n",
      "122/122 - 1s - loss: 0.0166 - val_loss: 0.0160 - 689ms/epoch - 6ms/step\n",
      "Epoch 17/50\n",
      "122/122 - 1s - loss: 0.0161 - val_loss: 0.0153 - 720ms/epoch - 6ms/step\n",
      "Epoch 18/50\n",
      "122/122 - 1s - loss: 0.0159 - val_loss: 0.0150 - 680ms/epoch - 6ms/step\n",
      "Epoch 19/50\n",
      "122/122 - 1s - loss: 0.0157 - val_loss: 0.0148 - 636ms/epoch - 5ms/step\n",
      "Epoch 20/50\n",
      "122/122 - 1s - loss: 0.0153 - val_loss: 0.0149 - 646ms/epoch - 5ms/step\n",
      "Epoch 21/50\n",
      "122/122 - 1s - loss: 0.0154 - val_loss: 0.0147 - 670ms/epoch - 5ms/step\n",
      "Epoch 22/50\n",
      "122/122 - 1s - loss: 0.0150 - val_loss: 0.0147 - 642ms/epoch - 5ms/step\n",
      "Epoch 23/50\n",
      "122/122 - 1s - loss: 0.0150 - val_loss: 0.0156 - 638ms/epoch - 5ms/step\n",
      "Epoch 24/50\n",
      "122/122 - 1s - loss: 0.0148 - val_loss: 0.0146 - 629ms/epoch - 5ms/step\n",
      "Epoch 25/50\n",
      "122/122 - 1s - loss: 0.0149 - val_loss: 0.0142 - 645ms/epoch - 5ms/step\n",
      "Epoch 26/50\n",
      "122/122 - 1s - loss: 0.0150 - val_loss: 0.0142 - 676ms/epoch - 6ms/step\n",
      "Epoch 27/50\n",
      "122/122 - 1s - loss: 0.0148 - val_loss: 0.0147 - 690ms/epoch - 6ms/step\n",
      "Epoch 28/50\n",
      "122/122 - 1s - loss: 0.0148 - val_loss: 0.0147 - 694ms/epoch - 6ms/step\n",
      "Epoch 29/50\n",
      "122/122 - 1s - loss: 0.0147 - val_loss: 0.0141 - 714ms/epoch - 6ms/step\n",
      "Epoch 30/50\n",
      "122/122 - 1s - loss: 0.0147 - val_loss: 0.0139 - 695ms/epoch - 6ms/step\n",
      "Epoch 31/50\n",
      "122/122 - 1s - loss: 0.0147 - val_loss: 0.0145 - 660ms/epoch - 5ms/step\n",
      "Epoch 32/50\n",
      "122/122 - 1s - loss: 0.0144 - val_loss: 0.0145 - 631ms/epoch - 5ms/step\n",
      "Epoch 33/50\n",
      "122/122 - 1s - loss: 0.0146 - val_loss: 0.0150 - 636ms/epoch - 5ms/step\n",
      "Epoch 34/50\n",
      "122/122 - 1s - loss: 0.0147 - val_loss: 0.0145 - 645ms/epoch - 5ms/step\n",
      "Epoch 35/50\n",
      "122/122 - 1s - loss: 0.0146 - val_loss: 0.0142 - 639ms/epoch - 5ms/step\n",
      "Epoch 36/50\n",
      "122/122 - 1s - loss: 0.0144 - val_loss: 0.0151 - 648ms/epoch - 5ms/step\n",
      "Epoch 37/50\n",
      "122/122 - 1s - loss: 0.0146 - val_loss: 0.0149 - 633ms/epoch - 5ms/step\n",
      "Epoch 38/50\n",
      "122/122 - 1s - loss: 0.0145 - val_loss: 0.0144 - 639ms/epoch - 5ms/step\n",
      "Epoch 39/50\n",
      "122/122 - 1s - loss: 0.0146 - val_loss: 0.0141 - 698ms/epoch - 6ms/step\n",
      "Epoch 40/50\n",
      "122/122 - 1s - loss: 0.0145 - val_loss: 0.0138 - 724ms/epoch - 6ms/step\n",
      "Epoch 41/50\n",
      "122/122 - 1s - loss: 0.0143 - val_loss: 0.0150 - 695ms/epoch - 6ms/step\n",
      "Epoch 42/50\n",
      "122/122 - 1s - loss: 0.0144 - val_loss: 0.0148 - 697ms/epoch - 6ms/step\n",
      "Epoch 43/50\n",
      "122/122 - 1s - loss: 0.0145 - val_loss: 0.0139 - 696ms/epoch - 6ms/step\n",
      "Epoch 44/50\n",
      "122/122 - 1s - loss: 0.0144 - val_loss: 0.0139 - 647ms/epoch - 5ms/step\n",
      "Epoch 45/50\n",
      "122/122 - 1s - loss: 0.0144 - val_loss: 0.0138 - 648ms/epoch - 5ms/step\n",
      "Epoch 46/50\n",
      "122/122 - 1s - loss: 0.0144 - val_loss: 0.0141 - 641ms/epoch - 5ms/step\n",
      "Epoch 47/50\n",
      "122/122 - 1s - loss: 0.0143 - val_loss: 0.0149 - 640ms/epoch - 5ms/step\n",
      "Epoch 48/50\n",
      "122/122 - 1s - loss: 0.0143 - val_loss: 0.0146 - 653ms/epoch - 5ms/step\n",
      "Epoch 49/50\n",
      "122/122 - 1s - loss: 0.0144 - val_loss: 0.0140 - 642ms/epoch - 5ms/step\n",
      "Epoch 50/50\n",
      "122/122 - 1s - loss: 0.0143 - val_loss: 0.0135 - 653ms/epoch - 5ms/step\n"
     ]
    },
    {
     "data": {
      "text/plain": "<Figure size 640x480 with 1 Axes>",
      "image/png": "[encoded data removed]"
     },
     "metadata": {},
     "output_type": "display_data"
    }
   ],
   "source": [
    "# design network\n",
    "model = Sequential()\n",
    "model.add(LSTM(50, input_shape=(train_X.shape[1], train_X.shape[2])))\n",
    "model.add(Dense(1))\n",
    "model.compile(loss='mae', optimizer='adam')\n",
    "# fit network\n",
    "history = model.fit(train_X, train_y, epochs=50, batch_size=72, validation_data=(test_X, test_y), verbose=2, shuffle=False)\n",
    "# plot history\n",
    "pyplot.plot(history.history['loss'], label='train')\n",
    "pyplot.plot(history.history['val_loss'], label='test')\n",
    "pyplot.legend()\n",
    "pyplot.show()"
   ],
   "metadata": {
    "collapsed": false
   }
  },
  {
   "cell_type": "code",
   "execution_count": 6,
   "outputs": [
    {
     "name": "stdout",
     "output_type": "stream",
     "text": [
      "1095/1095 [==============================] - 2s 956us/step\n",
      "Test RMSE: 26.221\n"
     ]
    }
   ],
   "source": [
    "# make a prediction\n",
    "yhat = model.predict(test_X)\n",
    "test_X = test_X.reshape((test_X.shape[0], n_hours*n_features))\n",
    "# invert scaling for forecast\n",
    "inv_yhat = concatenate((yhat, test_X[:, -10:]), axis=1)\n",
    "inv_yhat = scaler.inverse_transform(inv_yhat)\n",
    "inv_yhat = inv_yhat[:,0]\n",
    "# invert scaling for actual\n",
    "test_y = test_y.reshape((len(test_y), 1))\n",
    "inv_y = concatenate((test_y, test_X[:, -10:]), axis=1)\n",
    "inv_y = scaler.inverse_transform(inv_y)\n",
    "inv_y = inv_y[:,0]\n",
    "# calculate RMSE\n",
    "rmse = sqrt(mean_squared_error(inv_y, inv_yhat))\n",
    "print('Test RMSE: %.3f' % rmse)"
   ],
   "metadata": {
    "collapsed": false
   }
  },
  {
   "cell_type": "code",
   "execution_count": null,
   "outputs": [],
   "source": [],
   "metadata": {
    "collapsed": false
   }
  }
 ],
 "metadata": {
  "kernelspec": {
   "display_name": "venv",
   "language": "python",
   "name": "venv"
  },
  "language_info": {
   "codemirror_mode": {
    "name": "ipython",
    "version": 2
   },
   "file_extension": ".py",
   "mimetype": "text/x-python",
   "name": "python",
   "nbconvert_exporter": "python",
   "pygments_lexer": "ipython2",
   "version": "2.7.6"
  }
 },
 "nbformat": 4,
 "nbformat_minor": 0
}
