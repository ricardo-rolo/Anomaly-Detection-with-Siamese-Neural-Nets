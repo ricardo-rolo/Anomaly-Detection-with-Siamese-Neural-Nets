{
 "cells": [
  {
   "cell_type": "code",
   "execution_count": 44,
   "outputs": [],
   "source": [
    "from tslearn.utils import to_time_series_dataset\n",
    "from tensorflow.keras.preprocessing import timeseries_dataset_from_array\n",
    "from keras.models import Sequential\n",
    "from keras.layers import LSTM, Dense, RepeatVector, TimeDistributed, Dropout\n",
    "\n",
    "import pandas as pd\n",
    "import tensorflow as tf\n",
    "import matplotlib.pyplot as plt\n",
    "import pickle\n",
    "import numpy as np\n",
    "import seaborn as sns"
   ],
   "metadata": {
    "collapsed": false
   }
  },
  {
   "cell_type": "code",
   "execution_count": 2,
   "outputs": [],
   "source": [
    "with open('data/interfusion/processed/omi-1_train.pkl', 'rb') as f:\n",
    "    train = pickle.load(f)"
   ],
   "metadata": {
    "collapsed": false
   }
  },
  {
   "cell_type": "code",
   "execution_count": 3,
   "outputs": [],
   "source": [
    "with open('data/interfusion/processed/omi-1_test.pkl', 'rb') as f:\n",
    "    test = pickle.load(f)"
   ],
   "metadata": {
    "collapsed": false
   }
  },
  {
   "cell_type": "code",
   "execution_count": 4,
   "outputs": [],
   "source": [
    "with open('data/interfusion/processed/omi-1_test_label.pkl', 'rb') as f:\n",
    "    anomalies_omi1 = pickle.load(f)\n",
    "    anomalies_omi1 = np.flatnonzero(anomalies_omi1)"
   ],
   "metadata": {
    "collapsed": false
   }
  },
  {
   "cell_type": "code",
   "execution_count": 5,
   "outputs": [
    {
     "data": {
      "text/plain": "(8640, 19)"
     },
     "execution_count": 5,
     "metadata": {},
     "output_type": "execute_result"
    }
   ],
   "source": [
    "train.shape"
   ],
   "metadata": {
    "collapsed": false
   }
  },
  {
   "cell_type": "code",
   "execution_count": 6,
   "outputs": [
    {
     "data": {
      "text/plain": "(441,)"
     },
     "execution_count": 6,
     "metadata": {},
     "output_type": "execute_result"
    }
   ],
   "source": [
    "anomalies_omi1.shape"
   ],
   "metadata": {
    "collapsed": false
   }
  },
  {
   "cell_type": "code",
   "execution_count": 7,
   "outputs": [
    {
     "data": {
      "text/plain": "(4320, 19)"
     },
     "execution_count": 7,
     "metadata": {},
     "output_type": "execute_result"
    }
   ],
   "source": [
    "test.shape"
   ],
   "metadata": {
    "collapsed": false
   }
  },
  {
   "cell_type": "code",
   "execution_count": 10,
   "outputs": [],
   "source": [
    "# rows = int(np.ceil(np.sqrt(len(train[0]))))\n",
    "# cols = int(np.floor(np.sqrt(len(train[0]))))\n",
    "# fig, axs = plt.subplots(rows, cols, figsize = (40,40))\n",
    "#\n",
    "# for i in range(rows):\n",
    "#     for j in range(cols):\n",
    "#         if i*cols+j+1>len(train[0]): # pass the others that we can't fill\n",
    "#             continue\n",
    "#         axs[i, j].plot(train[:,i*cols+j])\n",
    "#         for anomaly in anomalies_omi1:\n",
    "#             axs[i, j].axvline(anomaly, color='red', alpha=0.5)\n",
    "#\n",
    "# plt.show()"
   ],
   "metadata": {
    "collapsed": false
   }
  },
  {
   "cell_type": "code",
   "execution_count": 11,
   "outputs": [],
   "source": [
    "def split_sequence(sequence, n_steps_in, n_steps_out):\n",
    "    X, y = list(), list()\n",
    "    for i in range(len(sequence)):\n",
    "        # find the end of this pattern\n",
    "        end_ix = i + n_steps_in\n",
    "        out_end_ix = end_ix + n_steps_out\n",
    "        # check if we are beyond the sequence\n",
    "        if out_end_ix > len(sequence):\n",
    "            break\n",
    "        # gather input and output parts of the pattern\n",
    "        seq_x, seq_y = sequence[i:end_ix], sequence[end_ix:out_end_ix]\n",
    "        X.append(seq_x)\n",
    "        y.append(seq_y)\n",
    "    return np.array(X), np.array(y)"
   ],
   "metadata": {
    "collapsed": false
   }
  },
  {
   "cell_type": "code",
   "execution_count": 37,
   "outputs": [
    {
     "name": "stdout",
     "output_type": "stream",
     "text": [
      "X_train shape: (8617, 12, 19)\n",
      "y_train shape: (8617, 12, 19)\n",
      "X_test shape: (4297, 12, 19)\n",
      "y_test shape: (4297, 12, 19)\n"
     ]
    }
   ],
   "source": [
    "n_steps_in = 12\n",
    "n_steps_out = 12\n",
    "# reshape to 3D [n_samples, n_steps, n_features]\n",
    "X_train, y_train = split_sequence(train, n_steps_in, n_steps_out)\n",
    "X_test, y_test = split_sequence(test, n_steps_in, n_steps_out)\n",
    "# reshape from [samples, timesteps] into [samples, timesteps, features]\n",
    "n_features = 19\n",
    "X_train = X_train.reshape((X_train.shape[0], X_train.shape[1], n_features))\n",
    "X_test = X_test.reshape((X_test.shape[0], X_test.shape[1], n_features))\n",
    "print('X_train shape:', X_train.shape)\n",
    "print('y_train shape:', y_train.shape)\n",
    "print('X_test shape:', X_test.shape)\n",
    "print('y_test shape:', y_test.shape)"
   ],
   "metadata": {
    "collapsed": false
   }
  },
  {
   "cell_type": "code",
   "execution_count": 38,
   "outputs": [],
   "source": [
    "units = 64\n",
    "dropout = 0.2\n",
    "optimizer = 'adam'\n",
    "loss = 'mae'\n",
    "epochs = 20\n",
    "\n",
    "model = Sequential()\n",
    "model.add(LSTM(units, input_shape=(n_steps_in, n_features)))\n",
    "model.add(Dropout(rate=dropout))\n",
    "model.add(RepeatVector(n_steps_out))\n",
    "model.add(LSTM(units, return_sequences=True))\n",
    "model.add(Dropout(rate=dropout))\n",
    "model.add(TimeDistributed(Dense(n_features)))\n",
    "model.compile(optimizer='adam', loss='mae')"
   ],
   "metadata": {
    "collapsed": false
   }
  },
  {
   "cell_type": "code",
   "execution_count": 39,
   "outputs": [
    {
     "name": "stdout",
     "output_type": "stream",
     "text": [
      "Epoch 1/20\n",
      "243/243 [==============================] - 6s 12ms/step - loss: 0.1321 - val_loss: 0.0590\n",
      "Epoch 2/20\n",
      "243/243 [==============================] - 2s 10ms/step - loss: 0.0736 - val_loss: 0.0421\n",
      "Epoch 3/20\n",
      "243/243 [==============================] - 2s 10ms/step - loss: 0.0594 - val_loss: 0.0413\n",
      "Epoch 4/20\n",
      "243/243 [==============================] - 2s 9ms/step - loss: 0.0541 - val_loss: 0.0356\n",
      "Epoch 5/20\n",
      "243/243 [==============================] - 2s 9ms/step - loss: 0.0483 - val_loss: 0.0345\n",
      "Epoch 6/20\n",
      "243/243 [==============================] - 2s 9ms/step - loss: 0.0455 - val_loss: 0.0338\n",
      "Epoch 7/20\n",
      "243/243 [==============================] - 2s 9ms/step - loss: 0.0430 - val_loss: 0.0329\n",
      "Epoch 8/20\n",
      "243/243 [==============================] - 2s 9ms/step - loss: 0.0406 - val_loss: 0.0304\n",
      "Epoch 9/20\n",
      "243/243 [==============================] - 2s 9ms/step - loss: 0.0400 - val_loss: 0.0327\n",
      "Epoch 10/20\n",
      "243/243 [==============================] - 2s 9ms/step - loss: 0.0391 - val_loss: 0.0296\n",
      "Epoch 11/20\n",
      "243/243 [==============================] - 2s 9ms/step - loss: 0.0389 - val_loss: 0.0264\n",
      "Epoch 12/20\n",
      "243/243 [==============================] - 2s 9ms/step - loss: 0.0369 - val_loss: 0.0280\n",
      "Epoch 13/20\n",
      "243/243 [==============================] - 2s 9ms/step - loss: 0.0369 - val_loss: 0.0279\n",
      "Epoch 14/20\n",
      "243/243 [==============================] - 2s 9ms/step - loss: 0.0356 - val_loss: 0.0278\n",
      "Epoch 15/20\n",
      "243/243 [==============================] - 2s 9ms/step - loss: 0.0341 - val_loss: 0.0289\n",
      "Epoch 16/20\n",
      "243/243 [==============================] - 2s 9ms/step - loss: 0.0351 - val_loss: 0.0271\n",
      "Epoch 17/20\n",
      "243/243 [==============================] - 2s 9ms/step - loss: 0.0332 - val_loss: 0.0249\n",
      "Epoch 18/20\n",
      "243/243 [==============================] - 2s 9ms/step - loss: 0.0337 - val_loss: 0.0254\n",
      "Epoch 19/20\n",
      "243/243 [==============================] - 2s 9ms/step - loss: 0.0323 - val_loss: 0.0249\n",
      "Epoch 20/20\n",
      "243/243 [==============================] - 2s 9ms/step - loss: 0.0326 - val_loss: 0.0244\n",
      "135/135 [==============================] - 1s 3ms/step\n",
      "[[[0.4774766  0.49969736 0.50030553 ... 0.2806186  0.2841387  0.276718  ]\n",
      "  [0.47703183 0.49971995 0.50024986 ... 0.27296987 0.27794957 0.267709  ]\n",
      "  [0.47653154 0.49973634 0.50021106 ... 0.26631004 0.272306   0.26043034]\n",
      "  ...\n",
      "  [0.4738559  0.49977013 0.50014454 ... 0.23627031 0.24513078 0.23321939]\n",
      "  [0.47366136 0.49976867 0.5001478  ... 0.2341104  0.24301164 0.23153068]\n",
      "  [0.4735041  0.49976668 0.50015205 ... 0.23235263 0.24124569 0.23018983]]\n",
      "\n",
      " [[0.47660494 0.49973828 0.50028515 ... 0.27369413 0.27784395 0.26875973]\n",
      "  [0.47616833 0.4997668  0.50022787 ... 0.26636207 0.27232882 0.25940302]\n",
      "  [0.4756754  0.49978638 0.5001888  ... 0.26002786 0.2671889  0.2519769 ]\n",
      "  ...\n",
      "  [0.47309342 0.4998239  0.5001213  ... 0.2313399  0.24148655 0.22532304]\n",
      "  [0.47290742 0.49982247 0.5001242  ... 0.22926527 0.23945487 0.22370777]\n",
      "  [0.4727578  0.4998205  0.5001281  ... 0.22757833 0.23776206 0.22243029]]\n",
      "\n",
      " [[0.4756779  0.4997779  0.50026083 ... 0.26544887 0.26985943 0.26030353]\n",
      "  [0.4752952  0.4998087  0.5002008  ... 0.25841054 0.26488283 0.25094974]\n",
      "  [0.4748403  0.49982893 0.5001609  ... 0.25237623 0.26016206 0.24358225]\n",
      "  ...\n",
      "  [0.47238606 0.49986666 0.5000908  ... 0.2247824  0.23568195 0.21755785]\n",
      "  [0.47220802 0.4998653  0.50009334 ... 0.22278222 0.23373249 0.21600434]\n",
      "  [0.47206527 0.4998634  0.5000968  ... 0.22115943 0.23211072 0.21478096]]\n",
      "\n",
      " ...\n",
      "\n",
      " [[0.5185049  0.49848074 0.50105363 ... 0.6906134  0.70236754 0.6596544 ]\n",
      "  [0.51628566 0.49856743 0.50097096 ... 0.67110664 0.6852071  0.6352198 ]\n",
      "  [0.5148142  0.49858817 0.50099134 ... 0.65748847 0.6729711  0.61911577]\n",
      "  ...\n",
      "  [0.50111455 0.49865016 0.5013283  ... 0.53353274 0.55182576 0.5053775 ]\n",
      "  [0.49997014 0.49865013 0.5013624  ... 0.5231152  0.5414739  0.49645978]\n",
      "  [0.4990427  0.49864987 0.50139    ... 0.514646   0.53304803 0.48925823]]\n",
      "\n",
      " [[0.51705414 0.49850687 0.50102544 ... 0.67306024 0.6845622  0.64342093]\n",
      "  [0.5149548  0.49858508 0.50094706 ... 0.6543607  0.6680424  0.619978  ]\n",
      "  [0.5135595  0.49860272 0.5009642  ... 0.64123017 0.6562315  0.60445035]\n",
      "  ...\n",
      "  [0.50041276 0.49866113 0.501287   ... 0.5228238  0.5405895  0.49572778]\n",
      "  [0.49925974 0.49866143 0.5013221  ... 0.5124191  0.5302621  0.48680878]\n",
      "  [0.49830613 0.49866155 0.50135106 ... 0.50379014 0.5216893  0.47945574]]\n",
      "\n",
      " [[0.515147   0.4985433  0.500991   ... 0.6494809  0.6606886  0.6214743 ]\n",
      "  [0.513162   0.49861148 0.5009193  ... 0.6314177  0.64460874 0.5988402 ]\n",
      "  [0.5118074  0.49862581 0.5009341  ... 0.6184146  0.6328684  0.5835389 ]\n",
      "  ...\n",
      "  [0.49918863 0.4986805  0.50124294 ... 0.50552124 0.52268004 0.4798258 ]\n",
      "  [0.49805635 0.49868116 0.501278   ... 0.49542108 0.51266193 0.47116572]\n",
      "  [0.49710745 0.49868166 0.50130737 ... 0.48693717 0.50424075 0.46393058]]]\n"
     ]
    }
   ],
   "source": [
    "# fit model\n",
    "history = model.fit(X_train, y_train, epochs=epochs, validation_split=0.1, batch_size=32, shuffle=False)"
   ],
   "metadata": {
    "collapsed": false
   }
  },
  {
   "cell_type": "code",
   "execution_count": 40,
   "outputs": [
    {
     "data": {
      "text/plain": "<Figure size 1000x500 with 1 Axes>",
      "image/png": "[encoded data removed]"
     },
     "metadata": {},
     "output_type": "display_data"
    }
   ],
   "source": [
    "# history for loss\n",
    "plt.figure(figsize = (10,5))\n",
    "plt.plot(history.history['loss'])\n",
    "plt.plot(history.history['val_loss'])\n",
    "plt.title('model loss')\n",
    "plt.ylabel('loss')\n",
    "plt.xlabel('epoch')\n",
    "plt.legend(['train', 'test'], loc='upper left')\n",
    "plt.show()"
   ],
   "metadata": {
    "collapsed": false
   }
  },
  {
   "cell_type": "code",
   "execution_count": 45,
   "outputs": [
    {
     "name": "stdout",
     "output_type": "stream",
     "text": [
      "270/270 [==============================] - 1s 3ms/step\n",
      "Training Loss: 0.04971727728843689\n",
      "\n"
     ]
    },
    {
     "name": "stderr",
     "output_type": "stream",
     "text": [
      "C:\\Users\\ric10\\AppData\\Local\\Temp\\ipykernel_36364\\2811862076.py:7: UserWarning: \n",
      "\n",
      "`distplot` is a deprecated function and will be removed in seaborn v0.14.0.\n",
      "\n",
      "Please adapt your code to use either `displot` (a figure-level function with\n",
      "similar flexibility) or `histplot` (an axes-level function for histograms).\n",
      "\n",
      "For a guide to updating your code to use the new functions, please see\n",
      "https://gist.github.com/mwaskom/de44147ed2974457ad6372750bbe5751\n",
      "\n",
      "  sns.distplot(train_loss, bins=50, kde=True)\n"
     ]
    },
    {
     "data": {
      "text/plain": "<Figure size 1000x500 with 1 Axes>",
      "image/png": "[encoded data removed]"
     },
     "metadata": {},
     "output_type": "display_data"
    }
   ],
   "source": [
    "train_pred = model.predict(X_train)\n",
    "train_loss = (np.mean(np.abs(train_pred - X_train), axis=1))\n",
    "avg_loss = train_loss.mean()\n",
    "print('Training Loss: {}\\n'.format(avg_loss))\n",
    "\n",
    "plt.figure(figsize=(10,5))\n",
    "sns.distplot(train_loss, bins=50, kde=True)\n",
    "plt.title('Distribution of training loss')\n",
    "plt.show()"
   ],
   "metadata": {
    "collapsed": false
   }
  },
  {
   "cell_type": "code",
   "execution_count": null,
   "outputs": [],
   "source": [
    "# MAE on the test data:\n",
    "y_pred = model.predict(X_test)\n",
    "print('Predict shape:', y_pred.shape); print();\n",
    "mae = np.mean(np.abs(y_pred - X_test), axis=1)\n",
    "# reshaping prediction\n",
    "pred = y_pred.reshape((y_pred.shape[0] * y_pred.shape[1]), y_pred.shape[2])\n",
    "print('Prediction:', pred.shape); print();\n",
    "print('Test data shape:', X_test.shape); print();\n",
    "# reshaping test data\n",
    "X_test = X_test.reshape((X_test.shape[0] * X_test.shape[1]), X_test.shape[2])\n",
    "print('Test data:', X_test.shape); print();\n",
    "# error computation\n",
    "errors = X_test - pred\n",
    "print('Error:', errors.shape); print();\n",
    "# rmse on test data\n",
    "RMSE = np.sqrt((np.square(X_test - pred_reshape)).mean(axis=ax))\n",
    "print('Test RMSE: %.3f' % RMSE);"
   ],
   "metadata": {
    "collapsed": false
   }
  }
 ],
 "metadata": {
  "kernelspec": {
   "display_name": "Python 3",
   "language": "python",
   "name": "python3"
  },
  "language_info": {
   "codemirror_mode": {
    "name": "ipython",
    "version": 2
   },
   "file_extension": ".py",
   "mimetype": "text/x-python",
   "name": "python",
   "nbconvert_exporter": "python",
   "pygments_lexer": "ipython2",
   "version": "2.7.6"
  }
 },
 "nbformat": 4,
 "nbformat_minor": 0
}
