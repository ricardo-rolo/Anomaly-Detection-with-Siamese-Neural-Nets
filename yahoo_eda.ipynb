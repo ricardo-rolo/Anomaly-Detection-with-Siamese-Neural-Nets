{
 "cells": [
  {
   "cell_type": "code",
   "execution_count": 19,
   "id": "ce08e746-a7ac-4630-a246-51f5681dee10",
   "metadata": {
    "tags": []
   },
   "outputs": [],
   "source": [
    "import pandas as pd\n",
    "import numpy as np\n",
    "import tensorflow as tf\n",
    "import matplotlib.pyplot as plt\n",
    "import seaborn as sns\n",
    "import os\n",
    "import random\n",
    "import tqdm\n",
    "\n",
    "from sklearn.preprocessing import StandardScaler, MinMaxScaler\n",
    "from sklearn.metrics import classification_report, confusion_matrix\n",
    "from functools import partial\n",
    "from tensorflow.keras.layers import *\n",
    "from tensorflow.keras.models import *\n",
    "from tensorflow.keras.optimizers import *\n",
    "from tensorflow.keras.callbacks import *\n",
    "from tensorflow.keras import backend as K\n",
    "from scipy.spatial.distance import euclidean\n",
    "from sklearn.metrics.pairwise import euclidean_distances\n",
    "from sklearn.model_selection import train_test_split\n",
    "\n",
    "sns.set_theme()"
   ]
  },
  {
   "cell_type": "markdown",
   "id": "25d6368f-d3d0-4814-a76e-679dad0ac093",
   "metadata": {
    "jp-MarkdownHeadingCollapsed": true,
    "tags": []
   },
   "source": [
    "### Functions"
   ]
  },
  {
   "cell_type": "code",
   "execution_count": 48,
   "id": "1ff6c50e-0b28-4a7a-8e48-0b623013e67f",
   "metadata": {
    "tags": []
   },
   "outputs": [],
   "source": [
    "# split a univariate sequence into samples\n",
    "def split_sequence(sequence, window_size, step):\n",
    "    X = list()\n",
    "    for i in range(0, len(sequence), step):\n",
    "        # find the end of this pattern\n",
    "        end_ix = i + window_size\n",
    "        # check if we are beyond the sequence\n",
    "        if end_ix > len(sequence)-1:\n",
    "            break\n",
    "        # gather input and output parts of the pattern\n",
    "        seq_x = sequence[i:end_ix]\n",
    "        X.append(seq_x)\n",
    "    return np.array(X)\n",
    "\n",
    "def generate_pairs(data, labels, window_size, n_features):\n",
    "    ### GENERATE PAIR SAMPLES FOR SIAMESE NETWORK ###\n",
    "\n",
    "    os.environ['PYTHONHASHSEED'] = str(33)\n",
    "    np.random.seed(33)\n",
    "    random.seed(33)\n",
    "\n",
    "    left_input = []\n",
    "    right_input = []\n",
    "    targets = []\n",
    "    \n",
    "    for i in range(len(data)):\n",
    "        if labels[i] == 1:\n",
    "            pairs = 30\n",
    "        else:\n",
    "            pairs = 1\n",
    "        for _ in range(pairs):\n",
    "            compare_to = i\n",
    "            while compare_to == i:\n",
    "                compare_to = random.randint(0,len(data)-1)\n",
    "            left_input.append(data[i])\n",
    "            right_input.append(data[compare_to])\n",
    "            # targets.append(euclidean(data[i], data[compare_to]))\n",
    "            if labels[i] == 1 and labels[compare_to] == 1:\n",
    "                targets.append(0.)\n",
    "            elif labels[i] == 1 or labels[compare_to] == 1:\n",
    "                targets.append(1.)\n",
    "            else:\n",
    "                targets.append(0.)\n",
    "\n",
    "    left_input = np.asarray(left_input).reshape(-1, window_size, n_features)\n",
    "    right_input = np.asarray(right_input).reshape(-1, window_size, n_features)\n",
    "    targets = np.asarray(targets)\n",
    "    return left_input, right_input, targets\n",
    "\n",
    "def set_seed(seed):\n",
    "    \n",
    "    tf.random.set_seed(seed)\n",
    "    os.environ['PYTHONHASHSEED'] = str(seed)\n",
    "    np.random.seed(seed)\n",
    "    random.seed(seed)\n",
    "    \n",
    "\n",
    "def SiamesNet():\n",
    "    \n",
    "    set_seed(33)\n",
    "    \n",
    "    left_input = Input((window_size, n_features))\n",
    "    right_input = Input((window_size, n_features))\n",
    "\n",
    "    lstmnet = Sequential([\n",
    "        BatchNormalization(),\n",
    "        LSTM(64, activation='relu', return_sequences=True, \n",
    "             input_shape=(window_size, n_features)),\n",
    "        LSTM(16, activation='relu', return_sequences=True, \n",
    "             input_shape=(window_size, n_features)),\n",
    "        LSTM(8, activation='relu')\n",
    "    ])\n",
    "\n",
    "    encoded_l = lstmnet(left_input)\n",
    "    encoded_r = lstmnet(right_input)\n",
    "\n",
    "    L1_layer = Lambda(lambda tensor: K.abs(tensor[0] - tensor[1]))\n",
    "\n",
    "    L1_distance = L1_layer([encoded_l, encoded_r])\n",
    "    drop = Dropout(0.2)(L1_distance)\n",
    "    prediction = Dense(1,activation='sigmoid')(drop)\n",
    "    model = Model(inputs=[left_input,right_input],outputs=prediction)\n",
    "    \n",
    "    return model"
   ]
  },
  {
   "cell_type": "markdown",
   "id": "9ebb3b79-2abc-4e69-a55b-6068b63371c3",
   "metadata": {
    "tags": []
   },
   "source": [
    "### Pre-processing"
   ]
  },
  {
   "cell_type": "code",
   "execution_count": 49,
   "id": "721a8c56-3b4f-411d-b17e-31d05a2928fa",
   "metadata": {
    "tags": []
   },
   "outputs": [],
   "source": [
    "dfs = []\n",
    "for i in range(1, 68):\n",
    "    dfs.append(pd.read_csv('./data/A1Benchmark/real_{}.csv'.format(i), index_col='timestamp'))"
   ]
  },
  {
   "cell_type": "code",
   "execution_count": 69,
   "id": "76ff646f-8b2f-46c1-84aa-738a8e932c2e",
   "metadata": {
    "tags": []
   },
   "outputs": [],
   "source": [
    "window_size = 6\n",
    "step = window_size\n",
    "n_features = 1\n",
    "windows = split_sequence(dfs[8].value, window_size, step)\n",
    "labels = split_sequence(dfs[8].is_anomaly, window_size, step)\n",
    "labels = np.array([1. if 1 in label_list else 0. for label_list in labels])"
   ]
  },
  {
   "cell_type": "code",
   "execution_count": 70,
   "id": "62230464-f3b9-40d9-bcb2-13b73283bb7a",
   "metadata": {
    "tags": []
   },
   "outputs": [],
   "source": [
    "train_windows, test_windows, train_labels, test_labels = train_test_split(windows, labels, random_state=33)"
   ]
  },
  {
   "cell_type": "code",
   "execution_count": 71,
   "id": "c96d4287-18ab-408d-92c0-9e1c2a606ac2",
   "metadata": {
    "tags": []
   },
   "outputs": [],
   "source": [
    "train_scaler, test_scaler = MinMaxScaler(), MinMaxScaler()\n",
    "train_windows = train_scaler.fit_transform(train_windows)\n",
    "test_windows = test_scaler.fit_transform(test_windows)"
   ]
  },
  {
   "cell_type": "code",
   "execution_count": 72,
   "id": "7d95f228-bdec-4f06-ad6d-068f091c3304",
   "metadata": {
    "tags": []
   },
   "outputs": [],
   "source": [
    "train_left_input, train_right_input, train_targets = generate_pairs(train_windows, train_labels, window_size, n_features)\n",
    "test_left_input, test_right_input, test_targets = generate_pairs(test_windows, test_labels, window_size, n_features)"
   ]
  },
  {
   "cell_type": "markdown",
   "id": "e2ea20b3-52f1-410a-8189-65e6df6c4c6a",
   "metadata": {
    "tags": []
   },
   "source": [
    "### Modeling"
   ]
  },
  {
   "cell_type": "code",
   "execution_count": 73,
   "id": "fe1350a5-518a-4536-98b9-b897766f71f7",
   "metadata": {
    "tags": []
   },
   "outputs": [
    {
     "name": "stdout",
     "output_type": "stream",
     "text": [
      "Epoch 1/50\n",
      "8/8 [==============================] - 5s 91ms/step - loss: 0.6920 - accuracy: 0.6798 - val_loss: 0.6919 - val_accuracy: 0.5610\n",
      "Epoch 2/50\n",
      "8/8 [==============================] - 0s 10ms/step - loss: 0.6885 - accuracy: 0.7632 - val_loss: 0.6901 - val_accuracy: 0.5610\n",
      "Epoch 3/50\n",
      "8/8 [==============================] - 0s 11ms/step - loss: 0.6842 - accuracy: 0.7719 - val_loss: 0.6862 - val_accuracy: 0.9268\n",
      "Epoch 4/50\n",
      "8/8 [==============================] - 0s 9ms/step - loss: 0.6756 - accuracy: 0.8070 - val_loss: 0.6791 - val_accuracy: 1.0000\n",
      "Epoch 5/50\n",
      "8/8 [==============================] - 0s 10ms/step - loss: 0.6629 - accuracy: 0.7412 - val_loss: 0.6642 - val_accuracy: 1.0000\n",
      "Epoch 6/50\n",
      "8/8 [==============================] - 0s 10ms/step - loss: 0.6262 - accuracy: 0.7588 - val_loss: 0.6208 - val_accuracy: 0.9756\n",
      "Epoch 7/50\n",
      "8/8 [==============================] - 0s 9ms/step - loss: 0.5721 - accuracy: 0.7763 - val_loss: 0.5921 - val_accuracy: 1.0000\n",
      "Epoch 8/50\n",
      "8/8 [==============================] - 0s 11ms/step - loss: 0.5131 - accuracy: 0.8070 - val_loss: 0.5796 - val_accuracy: 1.0000\n",
      "Epoch 9/50\n",
      "8/8 [==============================] - 0s 9ms/step - loss: 0.4988 - accuracy: 0.8246 - val_loss: 0.4047 - val_accuracy: 1.0000\n",
      "Epoch 10/50\n",
      "8/8 [==============================] - 0s 10ms/step - loss: 0.4970 - accuracy: 0.7982 - val_loss: 0.4212 - val_accuracy: 1.0000\n",
      "Epoch 11/50\n",
      "8/8 [==============================] - 0s 9ms/step - loss: 0.4519 - accuracy: 0.8465 - val_loss: 0.4330 - val_accuracy: 1.0000\n",
      "Epoch 12/50\n",
      "8/8 [==============================] - 0s 11ms/step - loss: 0.4514 - accuracy: 0.8333 - val_loss: 0.3756 - val_accuracy: 1.0000\n",
      "Epoch 13/50\n",
      "8/8 [==============================] - 0s 10ms/step - loss: 0.4445 - accuracy: 0.8421 - val_loss: 0.3200 - val_accuracy: 1.0000\n",
      "Epoch 14/50\n",
      "8/8 [==============================] - 0s 10ms/step - loss: 0.4464 - accuracy: 0.8377 - val_loss: 0.3031 - val_accuracy: 1.0000\n",
      "Epoch 15/50\n",
      "8/8 [==============================] - 0s 10ms/step - loss: 0.4263 - accuracy: 0.8421 - val_loss: 0.2825 - val_accuracy: 1.0000\n",
      "Epoch 16/50\n",
      "8/8 [==============================] - 0s 10ms/step - loss: 0.4096 - accuracy: 0.8465 - val_loss: 0.2546 - val_accuracy: 1.0000\n",
      "Epoch 17/50\n",
      "8/8 [==============================] - 0s 9ms/step - loss: 0.4398 - accuracy: 0.8553 - val_loss: 0.2476 - val_accuracy: 1.0000\n",
      "Epoch 18/50\n",
      "8/8 [==============================] - 0s 10ms/step - loss: 0.4826 - accuracy: 0.8465 - val_loss: 0.2707 - val_accuracy: 1.0000\n",
      "Epoch 19/50\n",
      "8/8 [==============================] - 0s 9ms/step - loss: 0.4325 - accuracy: 0.8553 - val_loss: 0.3449 - val_accuracy: 1.0000\n",
      "Epoch 20/50\n",
      "8/8 [==============================] - 0s 10ms/step - loss: 0.5009 - accuracy: 0.8246 - val_loss: 0.3894 - val_accuracy: 1.0000\n",
      "Epoch 21/50\n",
      "8/8 [==============================] - 0s 10ms/step - loss: 0.4990 - accuracy: 0.8289 - val_loss: 0.2998 - val_accuracy: 1.0000\n",
      "Epoch 22/50\n",
      "8/8 [==============================] - 0s 9ms/step - loss: 0.4359 - accuracy: 0.8509 - val_loss: 0.2642 - val_accuracy: 1.0000\n",
      "Epoch 23/50\n",
      "8/8 [==============================] - 0s 10ms/step - loss: 0.4407 - accuracy: 0.8553 - val_loss: 0.2577 - val_accuracy: 1.0000\n",
      "Epoch 24/50\n",
      "8/8 [==============================] - 0s 10ms/step - loss: 0.4210 - accuracy: 0.8772 - val_loss: 0.2438 - val_accuracy: 1.0000\n",
      "Epoch 25/50\n",
      "8/8 [==============================] - 0s 9ms/step - loss: 0.4692 - accuracy: 0.8421 - val_loss: 0.2156 - val_accuracy: 1.0000\n",
      "Epoch 26/50\n",
      "8/8 [==============================] - 0s 11ms/step - loss: 0.4492 - accuracy: 0.8377 - val_loss: 0.1952 - val_accuracy: 1.0000\n",
      "Epoch 27/50\n",
      "8/8 [==============================] - 0s 10ms/step - loss: 0.4254 - accuracy: 0.8860 - val_loss: 0.2027 - val_accuracy: 1.0000\n",
      "Epoch 28/50\n",
      "8/8 [==============================] - 0s 10ms/step - loss: 0.3798 - accuracy: 0.8904 - val_loss: 0.2299 - val_accuracy: 1.0000\n",
      "Epoch 29/50\n",
      "8/8 [==============================] - 0s 10ms/step - loss: 0.4046 - accuracy: 0.8465 - val_loss: 0.2044 - val_accuracy: 1.0000\n",
      "Epoch 30/50\n",
      "8/8 [==============================] - 0s 10ms/step - loss: 0.3783 - accuracy: 0.8684 - val_loss: 0.1675 - val_accuracy: 1.0000\n",
      "Epoch 31/50\n",
      "8/8 [==============================] - 0s 9ms/step - loss: 0.3451 - accuracy: 0.8991 - val_loss: 0.1624 - val_accuracy: 1.0000\n",
      "Epoch 32/50\n",
      "8/8 [==============================] - 0s 11ms/step - loss: 0.2959 - accuracy: 0.9211 - val_loss: 0.1616 - val_accuracy: 1.0000\n",
      "Epoch 33/50\n",
      "8/8 [==============================] - 0s 10ms/step - loss: 0.2393 - accuracy: 0.9474 - val_loss: 0.1339 - val_accuracy: 1.0000\n",
      "Epoch 34/50\n",
      "8/8 [==============================] - 0s 9ms/step - loss: 0.2738 - accuracy: 0.9386 - val_loss: 0.1257 - val_accuracy: 1.0000\n",
      "Epoch 35/50\n",
      "8/8 [==============================] - 0s 9ms/step - loss: 0.1878 - accuracy: 0.9474 - val_loss: 0.0988 - val_accuracy: 1.0000\n",
      "Epoch 36/50\n",
      "8/8 [==============================] - 0s 13ms/step - loss: 0.2280 - accuracy: 0.9342 - val_loss: 0.1256 - val_accuracy: 1.0000\n",
      "Epoch 37/50\n",
      "8/8 [==============================] - 0s 11ms/step - loss: 0.1769 - accuracy: 0.9430 - val_loss: 0.1018 - val_accuracy: 1.0000\n",
      "Epoch 38/50\n",
      "8/8 [==============================] - 0s 10ms/step - loss: 0.2793 - accuracy: 0.9298 - val_loss: 0.1103 - val_accuracy: 1.0000\n",
      "Epoch 39/50\n",
      "8/8 [==============================] - 0s 10ms/step - loss: 0.2136 - accuracy: 0.9386 - val_loss: 0.0967 - val_accuracy: 1.0000\n",
      "Epoch 40/50\n",
      "8/8 [==============================] - 0s 10ms/step - loss: 0.1814 - accuracy: 0.9518 - val_loss: 0.0768 - val_accuracy: 1.0000\n",
      "Epoch 41/50\n",
      "8/8 [==============================] - 0s 10ms/step - loss: 0.2131 - accuracy: 0.9561 - val_loss: 0.0890 - val_accuracy: 1.0000\n",
      "Epoch 42/50\n",
      "8/8 [==============================] - 0s 11ms/step - loss: 0.1496 - accuracy: 0.9649 - val_loss: 0.0851 - val_accuracy: 1.0000\n",
      "Epoch 43/50\n",
      "8/8 [==============================] - 0s 10ms/step - loss: 0.1267 - accuracy: 0.9737 - val_loss: 0.0765 - val_accuracy: 1.0000\n",
      "Epoch 44/50\n",
      "8/8 [==============================] - 0s 10ms/step - loss: 0.2416 - accuracy: 0.9430 - val_loss: 0.0827 - val_accuracy: 1.0000\n",
      "Epoch 45/50\n",
      "8/8 [==============================] - 0s 9ms/step - loss: 0.3681 - accuracy: 0.9342 - val_loss: 0.1243 - val_accuracy: 1.0000\n",
      "Epoch 46/50\n",
      "8/8 [==============================] - 0s 11ms/step - loss: 0.2715 - accuracy: 0.9167 - val_loss: 0.1101 - val_accuracy: 1.0000\n",
      "Epoch 47/50\n",
      "8/8 [==============================] - 0s 10ms/step - loss: 0.1660 - accuracy: 0.9781 - val_loss: 0.1075 - val_accuracy: 1.0000\n",
      "Epoch 48/50\n",
      "8/8 [==============================] - 0s 9ms/step - loss: 0.2426 - accuracy: 0.9605 - val_loss: 0.1010 - val_accuracy: 1.0000\n",
      "Epoch 49/50\n",
      "8/8 [==============================] - 0s 10ms/step - loss: 0.2808 - accuracy: 0.9254 - val_loss: 0.0982 - val_accuracy: 1.0000\n",
      "Epoch 50/50\n",
      "8/8 [==============================] - 0s 10ms/step - loss: 0.2402 - accuracy: 0.9561 - val_loss: 0.1481 - val_accuracy: 1.0000\n"
     ]
    },
    {
     "data": {
      "text/plain": [
       "<keras.callbacks.History at 0x1be97be9af0>"
      ]
     },
     "execution_count": 73,
     "metadata": {},
     "output_type": "execute_result"
    }
   ],
   "source": [
    "siamese_net = SiamesNet()\n",
    "siamese_net.compile(loss=\"binary_crossentropy\", optimizer=Adam(learning_rate=1e-3), metrics=['accuracy'])\n",
    "\n",
    "siamese_net.fit([train_left_input, train_right_input], train_targets, validation_split=0.15, epochs=50)"
   ]
  },
  {
   "cell_type": "markdown",
   "id": "8a07be54-f516-40eb-9fb7-c8aa8138f3e7",
   "metadata": {},
   "source": [
    "### Predictions"
   ]
  },
  {
   "cell_type": "code",
   "execution_count": 74,
   "id": "07d5f3f7-de64-4477-86a0-1ac89cd59e69",
   "metadata": {
    "tags": []
   },
   "outputs": [
    {
     "name": "stdout",
     "output_type": "stream",
     "text": [
      "4/4 [==============================] - 1s 5ms/step\n"
     ]
    }
   ],
   "source": [
    "y_pred = siamese_net.predict([test_left_input, test_right_input])"
   ]
  },
  {
   "cell_type": "code",
   "execution_count": 75,
   "id": "7d7369bf-45f3-4e26-9691-6231ea76f665",
   "metadata": {
    "tags": []
   },
   "outputs": [],
   "source": [
    "pred = ['fault' if i >= 0.99 else 'nofault' for i in y_pred]\n",
    "real = ['fault' if i == 1 else 'nofault' for i in test_targets]"
   ]
  },
  {
   "cell_type": "code",
   "execution_count": 76,
   "id": "9d4150cd-1a64-41dc-853b-3548f2599389",
   "metadata": {},
   "outputs": [],
   "source": [
    "# os.environ['PYTHONHASHSEED'] = str(33)\n",
    "# np.random.seed(33)\n",
    "# random.seed(33)\n",
    "\n",
    "# real = []\n",
    "# pred = []\n",
    "# rep = 4\n",
    "\n",
    "# for j,i in enumerate(tqdm.tqdm(test_labels)):\n",
    "    \n",
    "#     test = test_windows[j]\n",
    "    \n",
    "#     nofault = np.random.choice(np.where(train_labels == 0)[0], rep)\n",
    "#     nofault = train_windows[nofault]\n",
    "#     nofault_sim = np.max([float(siamese_net.predict([test[np.newaxis,:],s[np.newaxis,:]], verbose=0)) for s in nofault])\n",
    "\n",
    "#     fault = np.random.choice(np.where(train_labels == 1)[0], rep)\n",
    "#     fault = train_windows[fault]\n",
    "#     fault_sim = np.max([float(siamese_net.predict([test[np.newaxis,:],s[np.newaxis,:]], verbose=0)) for s in fault])\n",
    "    \n",
    "#     pred.append('nofault' if nofault_sim > fault_sim else 'fault')\n",
    "#     real.append('nofault' if i == 0 else 'fault')\n",
    "#     print(i)"
   ]
  },
  {
   "cell_type": "code",
   "execution_count": 77,
   "id": "f07fa5a4-69e7-4156-b117-d2f48f049600",
   "metadata": {
    "tags": []
   },
   "outputs": [
    {
     "name": "stdout",
     "output_type": "stream",
     "text": [
      "              precision    recall  f1-score   support\n",
      "\n",
      "       fault       0.95      1.00      0.98        60\n",
      "     nofault       1.00      0.95      0.97        59\n",
      "\n",
      "    accuracy                           0.97       119\n",
      "   macro avg       0.98      0.97      0.97       119\n",
      "weighted avg       0.98      0.97      0.97       119\n",
      "\n"
     ]
    }
   ],
   "source": [
    "print(classification_report(real, pred))"
   ]
  },
  {
   "cell_type": "code",
   "execution_count": null,
   "id": "e8ee93c6-70f4-43e8-a703-29069300552c",
   "metadata": {},
   "outputs": [],
   "source": []
  }
 ],
 "metadata": {
  "kernelspec": {
   "display_name": "Python 3 (ipykernel)",
   "language": "python",
   "name": "python3"
  },
  "language_info": {
   "codemirror_mode": {
    "name": "ipython",
    "version": 3
   },
   "file_extension": ".py",
   "mimetype": "text/x-python",
   "name": "python",
   "nbconvert_exporter": "python",
   "pygments_lexer": "ipython3",
   "version": "3.9.12"
  }
 },
 "nbformat": 4,
 "nbformat_minor": 5
}
