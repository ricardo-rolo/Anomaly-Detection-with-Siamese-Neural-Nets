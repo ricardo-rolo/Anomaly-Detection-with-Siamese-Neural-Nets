{
 "cells": [
  {
   "cell_type": "code",
   "execution_count": 1,
   "id": "ce08e746-a7ac-4630-a246-51f5681dee10",
   "metadata": {
    "tags": []
   },
   "outputs": [],
   "source": [
    "import pandas as pd\n",
    "import numpy as np\n",
    "import tensorflow as tf\n",
    "import matplotlib.pyplot as plt\n",
    "import seaborn as sns\n",
    "import os\n",
    "import random\n",
    "import tqdm\n",
    "\n",
    "from sklearn.preprocessing import StandardScaler, MinMaxScaler\n",
    "from sklearn.metrics import classification_report, confusion_matrix\n",
    "from functools import partial\n",
    "from tensorflow.keras.layers import *\n",
    "from tensorflow.keras.models import *\n",
    "from tensorflow.keras.optimizers import *\n",
    "from tensorflow.keras.callbacks import *\n",
    "from tensorflow.keras import backend as K\n",
    "from scipy.spatial.distance import euclidean\n",
    "from sklearn.metrics.pairwise import euclidean_distances\n",
    "from sklearn.model_selection import train_test_split\n",
    "\n",
    "sns.set_theme()"
   ]
  },
  {
   "cell_type": "markdown",
   "id": "25d6368f-d3d0-4814-a76e-679dad0ac093",
   "metadata": {
    "tags": []
   },
   "source": [
    "### Functions"
   ]
  },
  {
   "cell_type": "code",
   "execution_count": 66,
   "id": "1ff6c50e-0b28-4a7a-8e48-0b623013e67f",
   "metadata": {
    "tags": []
   },
   "outputs": [],
   "source": [
    "# split a univariate sequence into samples\n",
    "def split_sequence(sequence, window_size, step):\n",
    "    X = list()\n",
    "    for i in range(0, len(sequence), step):\n",
    "        # find the end of this pattern\n",
    "        end_ix = i + window_size\n",
    "        # check if we are beyond the sequence\n",
    "        if end_ix > len(sequence)-1:\n",
    "            break\n",
    "        # gather input and output parts of the pattern\n",
    "        seq_x = sequence[i:end_ix]\n",
    "        X.append(seq_x)\n",
    "    return np.array(X)\n",
    "\n",
    "def generate_pairs(data, labels, window_size, n_features):\n",
    "    ### GENERATE PAIR SAMPLES FOR SIAMESE NETWORK ###\n",
    "\n",
    "    os.environ['PYTHONHASHSEED'] = str(33)\n",
    "    np.random.seed(33)\n",
    "    random.seed(33)\n",
    "\n",
    "    left_input = []\n",
    "    right_input = []\n",
    "    targets = []\n",
    "    \n",
    "    for i in range(len(data)):\n",
    "        if labels[i] == 1:\n",
    "            pairs = 30\n",
    "        else:\n",
    "            pairs = 1\n",
    "        for _ in range(pairs):\n",
    "            compare_to = i\n",
    "            while compare_to == i:\n",
    "                compare_to = random.randint(0,len(data)-1)\n",
    "            left_input.append(data[i])\n",
    "            right_input.append(data[compare_to])\n",
    "            # targets.append(euclidean(data[i], data[compare_to]))\n",
    "            if labels[i] == 1 and labels[compare_to] == 1:\n",
    "                targets.append(0.)\n",
    "            elif labels[i] == 1 or labels[compare_to] == 1:\n",
    "                targets.append(1.)\n",
    "            else:\n",
    "                targets.append(0.)\n",
    "\n",
    "    left_input = np.asarray(left_input).reshape(-1, window_size, n_features)\n",
    "    right_input = np.asarray(right_input).reshape(-1, window_size, n_features)\n",
    "    targets = np.asarray(targets)\n",
    "    return left_input, right_input, targets\n",
    "\n",
    "def generate_pairs_unbalanced(data, labels, window_size, n_features):\n",
    "    ### GENERATE PAIR SAMPLES FOR SIAMESE NETWORK ###\n",
    "\n",
    "    os.environ['PYTHONHASHSEED'] = str(33)\n",
    "    np.random.seed(33)\n",
    "    random.seed(33)\n",
    "\n",
    "    left_input = []\n",
    "    right_input = []\n",
    "    targets = []\n",
    "    pairs = 5\n",
    "    \n",
    "    for i in range(len(data)):\n",
    "        for _ in range(pairs):\n",
    "            compare_to = i\n",
    "            while compare_to == i:\n",
    "                compare_to = random.randint(0,len(data)-1)\n",
    "            left_input.append(data[i])\n",
    "            right_input.append(data[compare_to])\n",
    "            # targets.append(euclidean(data[i], data[compare_to]))\n",
    "            if labels[i] == 1 and labels[compare_to] == 1:\n",
    "                targets.append(0.)\n",
    "            elif labels[i] == 1 or labels[compare_to] == 1:\n",
    "                targets.append(1.)\n",
    "            else:\n",
    "                targets.append(0.)\n",
    "\n",
    "    left_input = np.asarray(left_input).reshape(-1, window_size, n_features)\n",
    "    right_input = np.asarray(right_input).reshape(-1, window_size, n_features)\n",
    "    targets = np.asarray(targets)\n",
    "    return left_input, right_input, targets\n",
    "\n",
    "def set_seed(seed):\n",
    "    \n",
    "    tf.random.set_seed(seed)\n",
    "    os.environ['PYTHONHASHSEED'] = str(seed)\n",
    "    np.random.seed(seed)\n",
    "    random.seed(seed)\n",
    "    \n",
    "\n",
    "def SiamesNet():\n",
    "    \n",
    "    set_seed(33)\n",
    "    \n",
    "    left_input = Input((window_size, n_features))\n",
    "    right_input = Input((window_size, n_features))\n",
    "\n",
    "    lstmnet = Sequential([\n",
    "        BatchNormalization(),\n",
    "        LSTM(64, activation='relu', return_sequences=True, \n",
    "             input_shape=(window_size, n_features)),\n",
    "        LSTM(16, activation='relu', \n",
    "             input_shape=(window_size, n_features))\n",
    "    ])\n",
    "\n",
    "    encoded_l = lstmnet(left_input)\n",
    "    encoded_r = lstmnet(right_input)\n",
    "\n",
    "    L1_layer = Lambda(lambda tensor: K.abs(tensor[0] - tensor[1]))\n",
    "\n",
    "    L1_distance = L1_layer([encoded_l, encoded_r])\n",
    "    drop = Dropout(0.2)(L1_distance)\n",
    "    prediction = Dense(1,activation='sigmoid')(drop)\n",
    "    model = Model(inputs=[left_input,right_input],outputs=prediction)\n",
    "    \n",
    "    return model"
   ]
  },
  {
   "cell_type": "markdown",
   "id": "9ebb3b79-2abc-4e69-a55b-6068b63371c3",
   "metadata": {
    "tags": []
   },
   "source": [
    "### Pre-processing"
   ]
  },
  {
   "cell_type": "code",
   "execution_count": 67,
   "id": "721a8c56-3b4f-411d-b17e-31d05a2928fa",
   "metadata": {
    "tags": []
   },
   "outputs": [],
   "source": [
    "dfs = []\n",
    "for i in range(1, 68):\n",
    "    dfs.append(pd.read_csv('./data/A1Benchmark/real_{}.csv'.format(i), index_col='timestamp'))"
   ]
  },
  {
   "cell_type": "code",
   "execution_count": 68,
   "id": "76ff646f-8b2f-46c1-84aa-738a8e932c2e",
   "metadata": {
    "tags": []
   },
   "outputs": [],
   "source": [
    "window_size = 6\n",
    "step = window_size\n",
    "n_features = 1\n",
    "windows = split_sequence(dfs[8].value, window_size, step)\n",
    "labels = split_sequence(dfs[8].is_anomaly, window_size, step)\n",
    "labels = np.array([1. if 1 in label_list else 0. for label_list in labels])"
   ]
  },
  {
   "cell_type": "code",
   "execution_count": 69,
   "id": "62230464-f3b9-40d9-bcb2-13b73283bb7a",
   "metadata": {
    "tags": []
   },
   "outputs": [],
   "source": [
    "train_windows, test_windows, train_labels, test_labels = train_test_split(windows, labels, random_state=33)"
   ]
  },
  {
   "cell_type": "code",
   "execution_count": 70,
   "id": "c96d4287-18ab-408d-92c0-9e1c2a606ac2",
   "metadata": {
    "tags": []
   },
   "outputs": [],
   "source": [
    "train_scaler, test_scaler = MinMaxScaler(), MinMaxScaler()\n",
    "train_windows = train_scaler.fit_transform(train_windows)\n",
    "test_windows = test_scaler.fit_transform(test_windows)"
   ]
  },
  {
   "cell_type": "code",
   "execution_count": 71,
   "id": "7d95f228-bdec-4f06-ad6d-068f091c3304",
   "metadata": {
    "tags": []
   },
   "outputs": [],
   "source": [
    "train_left_input, train_right_input, train_targets = generate_pairs(train_windows, train_labels, window_size, n_features)\n",
    "test_left_input, test_right_input, test_targets = generate_pairs(test_windows, test_labels, window_size, n_features)\n",
    "unb_train_left_input, unb_train_right_input, unb_train_targets = generate_pairs_unbalanced(train_windows, train_labels, window_size, n_features)\n",
    "unb_test_left_input, unb_test_right_input, unb_test_targets = generate_pairs_unbalanced(test_windows, test_labels, window_size, n_features)"
   ]
  },
  {
   "cell_type": "markdown",
   "id": "e2ea20b3-52f1-410a-8189-65e6df6c4c6a",
   "metadata": {
    "jp-MarkdownHeadingCollapsed": true,
    "tags": []
   },
   "source": [
    "### Modeling"
   ]
  },
  {
   "cell_type": "code",
   "execution_count": 72,
   "id": "fe1350a5-518a-4536-98b9-b897766f71f7",
   "metadata": {
    "tags": []
   },
   "outputs": [
    {
     "name": "stdout",
     "output_type": "stream",
     "text": [
      "WARNING:tensorflow:Layer lstm_19 will not use cuDNN kernels since it doesn't meet the criteria. It will use a generic GPU kernel as fallback when running on GPU.\n",
      "WARNING:tensorflow:Layer lstm_20 will not use cuDNN kernels since it doesn't meet the criteria. It will use a generic GPU kernel as fallback when running on GPU.\n",
      "Epoch 1/25\n"
     ]
    },
    {
     "name": "stderr",
     "output_type": "stream",
     "text": [
      "2023-03-20 20:18:56.518647: I tensorflow/core/grappler/optimizers/custom_graph_optimizer_registry.cc:113] Plugin optimizer for device_type GPU is enabled.\n"
     ]
    },
    {
     "name": "stdout",
     "output_type": "stream",
     "text": [
      "8/8 [==============================] - ETA: 0s - loss: 0.6906 - accuracy: 0.6754"
     ]
    },
    {
     "name": "stderr",
     "output_type": "stream",
     "text": [
      "2023-03-20 20:19:01.978467: I tensorflow/core/grappler/optimizers/custom_graph_optimizer_registry.cc:113] Plugin optimizer for device_type GPU is enabled.\n"
     ]
    },
    {
     "name": "stdout",
     "output_type": "stream",
     "text": [
      "8/8 [==============================] - 8s 628ms/step - loss: 0.6906 - accuracy: 0.6754 - val_loss: 0.6933 - val_accuracy: 0.5610\n",
      "Epoch 2/25\n",
      "8/8 [==============================] - 3s 382ms/step - loss: 0.6856 - accuracy: 0.6886 - val_loss: 0.6927 - val_accuracy: 0.5610\n",
      "Epoch 3/25\n",
      "8/8 [==============================] - 3s 319ms/step - loss: 0.6794 - accuracy: 0.6754 - val_loss: 0.6914 - val_accuracy: 0.5610\n",
      "Epoch 4/25\n",
      "8/8 [==============================] - 2s 295ms/step - loss: 0.6743 - accuracy: 0.6842 - val_loss: 0.6902 - val_accuracy: 0.5610\n",
      "Epoch 5/25\n",
      "8/8 [==============================] - 3s 339ms/step - loss: 0.6643 - accuracy: 0.6886 - val_loss: 0.6871 - val_accuracy: 0.5610\n",
      "Epoch 6/25\n",
      "8/8 [==============================] - 3s 326ms/step - loss: 0.6545 - accuracy: 0.7149 - val_loss: 0.6823 - val_accuracy: 0.5610\n",
      "Epoch 7/25\n",
      "8/8 [==============================] - 3s 325ms/step - loss: 0.6364 - accuracy: 0.7412 - val_loss: 0.6751 - val_accuracy: 0.5610\n",
      "Epoch 8/25\n",
      "8/8 [==============================] - 3s 321ms/step - loss: 0.6220 - accuracy: 0.7632 - val_loss: 0.6550 - val_accuracy: 0.7561\n",
      "Epoch 9/25\n",
      "8/8 [==============================] - 2s 288ms/step - loss: 0.5756 - accuracy: 0.7763 - val_loss: 0.6099 - val_accuracy: 0.9268\n",
      "Epoch 10/25\n",
      "8/8 [==============================] - 2s 282ms/step - loss: 0.5270 - accuracy: 0.7675 - val_loss: 0.4704 - val_accuracy: 0.9512\n",
      "Epoch 11/25\n",
      "8/8 [==============================] - 2s 284ms/step - loss: 0.5208 - accuracy: 0.7632 - val_loss: 0.4199 - val_accuracy: 0.9512\n",
      "Epoch 12/25\n",
      "8/8 [==============================] - 2s 283ms/step - loss: 0.4809 - accuracy: 0.8246 - val_loss: 0.4711 - val_accuracy: 1.0000\n",
      "Epoch 13/25\n",
      "8/8 [==============================] - 2s 287ms/step - loss: 0.4161 - accuracy: 0.8640 - val_loss: 0.3595 - val_accuracy: 1.0000\n",
      "Epoch 14/25\n",
      "8/8 [==============================] - 2s 285ms/step - loss: 0.4331 - accuracy: 0.8421 - val_loss: 0.2782 - val_accuracy: 1.0000\n",
      "Epoch 15/25\n",
      "8/8 [==============================] - 2s 281ms/step - loss: 0.4509 - accuracy: 0.8289 - val_loss: 0.2824 - val_accuracy: 1.0000\n",
      "Epoch 16/25\n",
      "8/8 [==============================] - 2s 280ms/step - loss: 0.4055 - accuracy: 0.8684 - val_loss: 0.2519 - val_accuracy: 1.0000\n",
      "Epoch 17/25\n",
      "8/8 [==============================] - 2s 284ms/step - loss: 0.3682 - accuracy: 0.8684 - val_loss: 0.2264 - val_accuracy: 1.0000\n",
      "Epoch 18/25\n",
      "8/8 [==============================] - 2s 279ms/step - loss: 0.3633 - accuracy: 0.8684 - val_loss: 0.2152 - val_accuracy: 1.0000\n",
      "Epoch 19/25\n",
      "8/8 [==============================] - 2s 278ms/step - loss: 0.3112 - accuracy: 0.9167 - val_loss: 0.2042 - val_accuracy: 1.0000\n",
      "Epoch 20/25\n",
      "8/8 [==============================] - 2s 280ms/step - loss: 0.2653 - accuracy: 0.9123 - val_loss: 0.1739 - val_accuracy: 1.0000\n",
      "Epoch 21/25\n",
      "8/8 [==============================] - 2s 282ms/step - loss: 0.2536 - accuracy: 0.9211 - val_loss: 0.1588 - val_accuracy: 1.0000\n",
      "Epoch 22/25\n",
      "8/8 [==============================] - 2s 279ms/step - loss: 0.1482 - accuracy: 0.9737 - val_loss: 0.1246 - val_accuracy: 1.0000\n",
      "Epoch 23/25\n",
      "8/8 [==============================] - 2s 276ms/step - loss: 0.1781 - accuracy: 0.9561 - val_loss: 0.1227 - val_accuracy: 1.0000\n",
      "Epoch 24/25\n",
      "8/8 [==============================] - 2s 281ms/step - loss: 0.1497 - accuracy: 0.9649 - val_loss: 0.1159 - val_accuracy: 1.0000\n",
      "Epoch 25/25\n",
      "8/8 [==============================] - 2s 280ms/step - loss: 0.1736 - accuracy: 0.9474 - val_loss: 0.0904 - val_accuracy: 1.0000\n"
     ]
    },
    {
     "data": {
      "text/plain": [
       "<keras.callbacks.History at 0x3474745b0>"
      ]
     },
     "execution_count": 72,
     "metadata": {},
     "output_type": "execute_result"
    }
   ],
   "source": [
    "siamese_net = SiamesNet()\n",
    "siamese_net.compile(loss=\"binary_crossentropy\", optimizer=Adam(learning_rate=1e-3), metrics=['accuracy'])\n",
    "\n",
    "siamese_net.fit([train_left_input, train_right_input], train_targets, validation_split=0.15, epochs=25)"
   ]
  },
  {
   "cell_type": "code",
   "execution_count": 73,
   "id": "292eae94-d432-4142-8307-429f623f25aa",
   "metadata": {
    "tags": []
   },
   "outputs": [
    {
     "name": "stdout",
     "output_type": "stream",
     "text": [
      "WARNING:tensorflow:Layer lstm_21 will not use cuDNN kernels since it doesn't meet the criteria. It will use a generic GPU kernel as fallback when running on GPU.\n",
      "WARNING:tensorflow:Layer lstm_22 will not use cuDNN kernels since it doesn't meet the criteria. It will use a generic GPU kernel as fallback when running on GPU.\n",
      "Epoch 1/25\n"
     ]
    },
    {
     "name": "stderr",
     "output_type": "stream",
     "text": [
      "2023-03-20 20:20:00.885203: I tensorflow/core/grappler/optimizers/custom_graph_optimizer_registry.cc:113] Plugin optimizer for device_type GPU is enabled.\n"
     ]
    },
    {
     "name": "stdout",
     "output_type": "stream",
     "text": [
      "25/25 [==============================] - ETA: 0s - loss: 0.6547 - accuracy: 0.9560"
     ]
    },
    {
     "name": "stderr",
     "output_type": "stream",
     "text": [
      "2023-03-20 20:20:12.131668: I tensorflow/core/grappler/optimizers/custom_graph_optimizer_registry.cc:113] Plugin optimizer for device_type GPU is enabled.\n"
     ]
    },
    {
     "name": "stdout",
     "output_type": "stream",
     "text": [
      "25/25 [==============================] - 13s 441ms/step - loss: 0.6547 - accuracy: 0.9560 - val_loss: 0.6614 - val_accuracy: 0.9562\n",
      "Epoch 2/25\n",
      "25/25 [==============================] - 8s 322ms/step - loss: 0.4971 - accuracy: 0.9741 - val_loss: 0.5211 - val_accuracy: 0.9562\n",
      "Epoch 3/25\n",
      "25/25 [==============================] - 8s 310ms/step - loss: 0.3101 - accuracy: 0.9741 - val_loss: 0.3882 - val_accuracy: 0.9562\n",
      "Epoch 4/25\n",
      "25/25 [==============================] - 8s 317ms/step - loss: 0.2817 - accuracy: 0.9741 - val_loss: 0.3741 - val_accuracy: 0.9562\n",
      "Epoch 5/25\n",
      "25/25 [==============================] - 8s 314ms/step - loss: 0.2424 - accuracy: 0.9754 - val_loss: 0.2879 - val_accuracy: 0.9562\n",
      "Epoch 6/25\n",
      "25/25 [==============================] - 8s 312ms/step - loss: 0.1940 - accuracy: 0.9767 - val_loss: 0.2007 - val_accuracy: 0.9781\n",
      "Epoch 7/25\n",
      "25/25 [==============================] - 7s 282ms/step - loss: 0.1521 - accuracy: 0.9767 - val_loss: 0.1386 - val_accuracy: 0.9781\n",
      "Epoch 8/25\n",
      "25/25 [==============================] - 8s 317ms/step - loss: 0.0995 - accuracy: 0.9935 - val_loss: 0.2193 - val_accuracy: 0.9781\n",
      "Epoch 9/25\n",
      "25/25 [==============================] - 8s 320ms/step - loss: 0.1398 - accuracy: 0.9897 - val_loss: 0.0775 - val_accuracy: 1.0000\n",
      "Epoch 10/25\n",
      "25/25 [==============================] - 7s 293ms/step - loss: 0.0865 - accuracy: 0.9884 - val_loss: 0.0558 - val_accuracy: 1.0000\n",
      "Epoch 11/25\n",
      "25/25 [==============================] - 8s 318ms/step - loss: 0.0471 - accuracy: 0.9948 - val_loss: 0.0371 - val_accuracy: 1.0000\n",
      "Epoch 12/25\n",
      "25/25 [==============================] - 8s 302ms/step - loss: 0.0712 - accuracy: 0.9884 - val_loss: 0.0417 - val_accuracy: 1.0000\n",
      "Epoch 13/25\n",
      "25/25 [==============================] - 7s 301ms/step - loss: 0.0464 - accuracy: 0.9961 - val_loss: 0.0423 - val_accuracy: 1.0000\n",
      "Epoch 14/25\n",
      "25/25 [==============================] - 8s 321ms/step - loss: 0.0358 - accuracy: 0.9974 - val_loss: 0.0285 - val_accuracy: 1.0000\n",
      "Epoch 15/25\n",
      "25/25 [==============================] - 7s 292ms/step - loss: 0.0437 - accuracy: 0.9961 - val_loss: 0.0336 - val_accuracy: 1.0000\n",
      "Epoch 16/25\n",
      "25/25 [==============================] - 8s 309ms/step - loss: 0.0318 - accuracy: 0.9961 - val_loss: 0.0360 - val_accuracy: 1.0000\n",
      "Epoch 17/25\n",
      "25/25 [==============================] - 8s 303ms/step - loss: 0.0279 - accuracy: 0.9948 - val_loss: 0.0222 - val_accuracy: 1.0000\n",
      "Epoch 18/25\n",
      "25/25 [==============================] - 8s 316ms/step - loss: 0.0108 - accuracy: 1.0000 - val_loss: 0.0144 - val_accuracy: 1.0000\n",
      "Epoch 19/25\n",
      "25/25 [==============================] - 8s 337ms/step - loss: 0.0464 - accuracy: 0.9974 - val_loss: 0.0319 - val_accuracy: 0.9927\n",
      "Epoch 20/25\n",
      "25/25 [==============================] - 8s 306ms/step - loss: 0.0533 - accuracy: 0.9922 - val_loss: 0.0255 - val_accuracy: 1.0000\n",
      "Epoch 21/25\n",
      "25/25 [==============================] - 7s 298ms/step - loss: 0.0468 - accuracy: 0.9987 - val_loss: 0.0186 - val_accuracy: 1.0000\n",
      "Epoch 22/25\n",
      "25/25 [==============================] - 7s 298ms/step - loss: 0.0462 - accuracy: 0.9961 - val_loss: 0.0267 - val_accuracy: 1.0000\n",
      "Epoch 23/25\n",
      "25/25 [==============================] - 8s 319ms/step - loss: 0.0314 - accuracy: 0.9961 - val_loss: 0.0191 - val_accuracy: 1.0000\n",
      "Epoch 24/25\n",
      "25/25 [==============================] - 8s 331ms/step - loss: 0.0582 - accuracy: 0.9935 - val_loss: 0.0256 - val_accuracy: 1.0000\n",
      "Epoch 25/25\n",
      "25/25 [==============================] - 8s 324ms/step - loss: 0.0415 - accuracy: 0.9974 - val_loss: 0.0315 - val_accuracy: 1.0000\n"
     ]
    },
    {
     "data": {
      "text/plain": [
       "<keras.callbacks.History at 0x33b465850>"
      ]
     },
     "execution_count": 73,
     "metadata": {},
     "output_type": "execute_result"
    }
   ],
   "source": [
    "unb_siamese_net = SiamesNet()\n",
    "unb_siamese_net.compile(loss=\"binary_crossentropy\", optimizer=Adam(learning_rate=1e-3), metrics=['accuracy'])\n",
    "\n",
    "unb_siamese_net.fit([unb_train_left_input, unb_train_right_input], unb_train_targets, validation_split=0.15, epochs=25)"
   ]
  },
  {
   "cell_type": "markdown",
   "id": "8a07be54-f516-40eb-9fb7-c8aa8138f3e7",
   "metadata": {
    "tags": []
   },
   "source": [
    "### Predictions"
   ]
  },
  {
   "cell_type": "code",
   "execution_count": 74,
   "id": "07d5f3f7-de64-4477-86a0-1ac89cd59e69",
   "metadata": {
    "tags": []
   },
   "outputs": [
    {
     "name": "stderr",
     "output_type": "stream",
     "text": [
      "2023-03-20 20:23:19.617458: I tensorflow/core/grappler/optimizers/custom_graph_optimizer_registry.cc:113] Plugin optimizer for device_type GPU is enabled.\n"
     ]
    },
    {
     "name": "stdout",
     "output_type": "stream",
     "text": [
      "4/4 [==============================] - 1s 145ms/step\n"
     ]
    },
    {
     "name": "stderr",
     "output_type": "stream",
     "text": [
      "2023-03-20 20:23:20.603058: I tensorflow/core/grappler/optimizers/custom_graph_optimizer_registry.cc:113] Plugin optimizer for device_type GPU is enabled.\n"
     ]
    },
    {
     "name": "stdout",
     "output_type": "stream",
     "text": [
      "10/10 [==============================] - 1s 78ms/step\n"
     ]
    }
   ],
   "source": [
    "y_pred = siamese_net.predict([test_left_input, test_right_input])\n",
    "unb_y_pred = unb_siamese_net.predict([unb_test_left_input, unb_test_right_input])"
   ]
  },
  {
   "cell_type": "code",
   "execution_count": 75,
   "id": "7d7369bf-45f3-4e26-9691-6231ea76f665",
   "metadata": {
    "tags": []
   },
   "outputs": [],
   "source": [
    "pred = ['fault' if i >= 0.99 else 'nofault' for i in y_pred]\n",
    "real = ['fault' if i == 1 else 'nofault' for i in test_targets]\n",
    "unb_pred = ['fault' if i >= 0.99 else 'nofault' for i in unb_y_pred]\n",
    "unb_real = ['fault' if i == 1 else 'nofault' for i in unb_test_targets]"
   ]
  },
  {
   "cell_type": "code",
   "execution_count": 76,
   "id": "9d4150cd-1a64-41dc-853b-3548f2599389",
   "metadata": {
    "tags": []
   },
   "outputs": [],
   "source": [
    "# os.environ['PYTHONHASHSEED'] = str(33)\n",
    "# np.random.seed(33)\n",
    "# random.seed(33)\n",
    "\n",
    "# real = []\n",
    "# pred = []\n",
    "# rep = 4\n",
    "\n",
    "# for j,i in enumerate(tqdm.tqdm(test_labels)):\n",
    "    \n",
    "#     test = test_windows[j]\n",
    "    \n",
    "#     nofault = np.random.choice(np.where(train_labels == 0)[0], rep)\n",
    "#     nofault = train_windows[nofault]\n",
    "#     nofault_sim = np.max([float(siamese_net.predict([test[np.newaxis,:],s[np.newaxis,:]], verbose=0)) for s in nofault])\n",
    "\n",
    "#     fault = np.random.choice(np.where(train_labels == 1)[0], rep)\n",
    "#     fault = train_windows[fault]\n",
    "#     fault_sim = np.max([float(siamese_net.predict([test[np.newaxis,:],s[np.newaxis,:]], verbose=0)) for s in fault])\n",
    "    \n",
    "#     pred.append('nofault' if nofault_sim > fault_sim else 'fault')\n",
    "#     real.append('nofault' if i == 0 else 'fault')\n",
    "#     print(i)"
   ]
  },
  {
   "cell_type": "code",
   "execution_count": 77,
   "id": "f07fa5a4-69e7-4156-b117-d2f48f049600",
   "metadata": {
    "tags": []
   },
   "outputs": [
    {
     "data": {
      "text/plain": [
       "<Axes: >"
      ]
     },
     "execution_count": 77,
     "metadata": {},
     "output_type": "execute_result"
    },
    {
     "data": {
      "image/png": "[encoded data removed]",
      "text/plain": [
       "<Figure size 640x480 with 2 Axes>"
      ]
     },
     "metadata": {},
     "output_type": "display_data"
    }
   ],
   "source": [
    "sns.heatmap(confusion_matrix(real, pred), annot=True)"
   ]
  },
  {
   "cell_type": "code",
   "execution_count": 78,
   "id": "244f65a8-96f2-4f2a-ba92-a727c9223a47",
   "metadata": {
    "tags": []
   },
   "outputs": [
    {
     "data": {
      "text/plain": [
       "<Axes: >"
      ]
     },
     "execution_count": 78,
     "metadata": {},
     "output_type": "execute_result"
    },
    {
     "data": {
      "image/png": "[encoded data removed]",
      "text/plain": [
       "<Figure size 640x480 with 2 Axes>"
      ]
     },
     "metadata": {},
     "output_type": "display_data"
    }
   ],
   "source": [
    "sns.heatmap(confusion_matrix(unb_real, unb_pred), annot=True)"
   ]
  },
  {
   "cell_type": "code",
   "execution_count": null,
   "id": "3ca45ae8-7576-447d-8fc2-50d81c246e6c",
   "metadata": {},
   "outputs": [],
   "source": []
  }
 ],
 "metadata": {
  "kernelspec": {
   "display_name": "Python 3 (ipykernel)",
   "language": "python",
   "name": "python3"
  },
  "language_info": {
   "codemirror_mode": {
    "name": "ipython",
    "version": 3
   },
   "file_extension": ".py",
   "mimetype": "text/x-python",
   "name": "python",
   "nbconvert_exporter": "python",
   "pygments_lexer": "ipython3",
   "version": "3.9.16"
  }
 },
 "nbformat": 4,
 "nbformat_minor": 5
}
