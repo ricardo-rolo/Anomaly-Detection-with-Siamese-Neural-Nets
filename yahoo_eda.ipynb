{
 "cells": [
  {
   "cell_type": "code",
   "execution_count": 1,
   "id": "ce08e746-a7ac-4630-a246-51f5681dee10",
   "metadata": {
    "tags": []
   },
   "outputs": [],
   "source": [
    "import pandas as pd\n",
    "import numpy as np\n",
    "import tensorflow as tf\n",
    "import matplotlib.pyplot as plt\n",
    "import seaborn as sns\n",
    "import os\n",
    "import random\n",
    "import tqdm\n",
    "\n",
    "from sklearn.preprocessing import StandardScaler\n",
    "from sklearn.metrics import classification_report, confusion_matrix\n",
    "from functools import partial\n",
    "from tensorflow.keras.layers import *\n",
    "from tensorflow.keras.models import *\n",
    "from tensorflow.keras.optimizers import *\n",
    "from tensorflow.keras.callbacks import *\n",
    "from tensorflow.keras import backend as K\n",
    "from scipy.spatial.distance import euclidean\n",
    "from sklearn.metrics.pairwise import euclidean_distances\n",
    "from sklearn.model_selection import train_test_split\n",
    "\n",
    "sns.set_theme()"
   ]
  },
  {
   "cell_type": "markdown",
   "id": "25d6368f-d3d0-4814-a76e-679dad0ac093",
   "metadata": {
    "jp-MarkdownHeadingCollapsed": true,
    "tags": []
   },
   "source": [
    "### Functions"
   ]
  },
  {
   "cell_type": "code",
   "execution_count": 65,
   "id": "1ff6c50e-0b28-4a7a-8e48-0b623013e67f",
   "metadata": {
    "tags": []
   },
   "outputs": [],
   "source": [
    "# split a univariate sequence into samples\n",
    "def split_sequence(sequence, window_size, step):\n",
    "    X = list()\n",
    "    for i in range(0, len(sequence), step):\n",
    "        # find the end of this pattern\n",
    "        end_ix = i + window_size\n",
    "        # check if we are beyond the sequence\n",
    "        if end_ix > len(sequence)-1:\n",
    "            break\n",
    "        # gather input and output parts of the pattern\n",
    "        seq_x = sequence[i:end_ix]\n",
    "        X.append(seq_x)\n",
    "    return np.array(X)\n",
    "\n",
    "def generate_pairs(data, labels, window_size, n_features):\n",
    "    ### GENERATE PAIR SAMPLES FOR SIAMESE NETWORK ###\n",
    "\n",
    "    os.environ['PYTHONHASHSEED'] = str(33)\n",
    "    np.random.seed(33)\n",
    "    random.seed(33)\n",
    "\n",
    "    left_input = []\n",
    "    right_input = []\n",
    "    targets = []\n",
    "    pairs = 3\n",
    "\n",
    "    for i in range(len(data)):\n",
    "        for _ in range(pairs):\n",
    "            compare_to = i\n",
    "            while compare_to == i:\n",
    "                compare_to = random.randint(0,len(data)-1)\n",
    "            left_input.append(data[i])\n",
    "            right_input.append(data[compare_to])\n",
    "            # targets.append(euclidean(data[i], data[compare_to]))\n",
    "            if 1 in labels[i] and 1 in labels[compare_to]:\n",
    "                targets.append(0.)\n",
    "            elif 1 in labels[i] or 1 in labels[compare_to]:\n",
    "                targets.append(1.)\n",
    "            else:\n",
    "                targets.append(0.)\n",
    "\n",
    "    left_input = np.asarray(left_input).reshape(-1, window_size, n_features)\n",
    "    right_input = np.asarray(right_input).reshape(-1, window_size, n_features)\n",
    "    targets = np.asarray(targets)\n",
    "    return left_input, right_input, targets\n",
    "\n",
    "def set_seed(seed):\n",
    "    \n",
    "    tf.random.set_seed(seed)\n",
    "    os.environ['PYTHONHASHSEED'] = str(seed)\n",
    "    np.random.seed(seed)\n",
    "    random.seed(seed)\n",
    "    \n",
    "\n",
    "def SiamesNet():\n",
    "    \n",
    "    set_seed(33)\n",
    "    \n",
    "    left_input = Input((window_size, n_features))\n",
    "    right_input = Input((window_size, n_features))\n",
    "\n",
    "    lstmnet = Sequential([\n",
    "        BatchNormalization(),\n",
    "        LSTM(64, activation='relu', return_sequences=True, \n",
    "             input_shape=(window_size, n_features)),\n",
    "        LSTM(16, activation='relu')\n",
    "    ])\n",
    "\n",
    "    encoded_l = lstmnet(left_input)\n",
    "    encoded_r = lstmnet(right_input)\n",
    "\n",
    "    L1_layer = Lambda(lambda tensor: K.abs(tensor[0] - tensor[1]))\n",
    "\n",
    "    L1_distance = L1_layer([encoded_l, encoded_r])\n",
    "    drop = Dropout(0.2)(L1_distance)\n",
    "    prediction = Dense(1,activation='sigmoid')(drop)\n",
    "    model = Model(inputs=[left_input,right_input],outputs=prediction)\n",
    "    \n",
    "    return model"
   ]
  },
  {
   "cell_type": "markdown",
   "id": "9ebb3b79-2abc-4e69-a55b-6068b63371c3",
   "metadata": {
    "jp-MarkdownHeadingCollapsed": true,
    "tags": []
   },
   "source": [
    "### Pre-processing"
   ]
  },
  {
   "cell_type": "code",
   "execution_count": 66,
   "id": "721a8c56-3b4f-411d-b17e-31d05a2928fa",
   "metadata": {
    "tags": []
   },
   "outputs": [],
   "source": [
    "dfs = []\n",
    "for i in range(1, 68):\n",
    "    dfs.append(pd.read_csv('./data/A1Benchmark/real_{}.csv'.format(i), index_col='timestamp'))"
   ]
  },
  {
   "cell_type": "code",
   "execution_count": 67,
   "id": "76ff646f-8b2f-46c1-84aa-738a8e932c2e",
   "metadata": {
    "tags": []
   },
   "outputs": [],
   "source": [
    "window_size = 12\n",
    "step = window_size\n",
    "n_features = 1\n",
    "windows = split_sequence(dfs[8].value, window_size, step)\n",
    "labels = split_sequence(dfs[8].is_anomaly, window_size, step)"
   ]
  },
  {
   "cell_type": "code",
   "execution_count": 68,
   "id": "62230464-f3b9-40d9-bcb2-13b73283bb7a",
   "metadata": {
    "tags": []
   },
   "outputs": [],
   "source": [
    "train_windows, test_windows, train_labels, test_labels = train_test_split(windows, labels)"
   ]
  },
  {
   "cell_type": "code",
   "execution_count": 70,
   "id": "7d95f228-bdec-4f06-ad6d-068f091c3304",
   "metadata": {
    "tags": []
   },
   "outputs": [],
   "source": [
    "train_left_input, train_right_input, train_targets = generate_pairs(train_windows, train_labels, window_size, n_features)\n",
    "test_left_input, test_right_input, test_targets = generate_pairs(test_windows, test_labels, window_size, n_features)"
   ]
  },
  {
   "cell_type": "markdown",
   "id": "e2ea20b3-52f1-410a-8189-65e6df6c4c6a",
   "metadata": {
    "jp-MarkdownHeadingCollapsed": true,
    "tags": []
   },
   "source": [
    "### Modeling"
   ]
  },
  {
   "cell_type": "code",
   "execution_count": 84,
   "id": "fe1350a5-518a-4536-98b9-b897766f71f7",
   "metadata": {
    "tags": []
   },
   "outputs": [
    {
     "name": "stdout",
     "output_type": "stream",
     "text": [
      "Epoch 1/50\n",
      "8/8 [==============================] - 4s 76ms/step - loss: 0.6782 - accuracy: 0.9214 - val_loss: 0.6880 - val_accuracy: 0.9512\n",
      "Epoch 2/50\n",
      "8/8 [==============================] - 0s 11ms/step - loss: 0.6457 - accuracy: 0.9476 - val_loss: 0.6826 - val_accuracy: 0.9512\n",
      "Epoch 3/50\n",
      "8/8 [==============================] - 0s 11ms/step - loss: 0.5750 - accuracy: 0.9607 - val_loss: 0.6740 - val_accuracy: 0.9512\n",
      "Epoch 4/50\n",
      "8/8 [==============================] - 0s 11ms/step - loss: 0.4081 - accuracy: 0.9563 - val_loss: 0.6523 - val_accuracy: 0.9512\n",
      "Epoch 5/50\n",
      "8/8 [==============================] - 0s 12ms/step - loss: 0.3734 - accuracy: 0.9520 - val_loss: 0.6570 - val_accuracy: 0.9512\n",
      "Epoch 6/50\n",
      "8/8 [==============================] - 0s 11ms/step - loss: 0.3346 - accuracy: 0.9563 - val_loss: 0.6561 - val_accuracy: 0.9512\n",
      "Epoch 7/50\n",
      "8/8 [==============================] - 0s 10ms/step - loss: 0.3030 - accuracy: 0.9738 - val_loss: 0.6467 - val_accuracy: 0.9512\n",
      "Epoch 8/50\n",
      "8/8 [==============================] - 0s 11ms/step - loss: 0.3085 - accuracy: 0.9476 - val_loss: 0.6303 - val_accuracy: 0.9512\n",
      "Epoch 9/50\n",
      "8/8 [==============================] - 0s 11ms/step - loss: 0.3172 - accuracy: 0.9520 - val_loss: 0.6267 - val_accuracy: 0.9512\n",
      "Epoch 10/50\n",
      "8/8 [==============================] - 0s 11ms/step - loss: 0.2091 - accuracy: 0.9651 - val_loss: 0.6264 - val_accuracy: 0.9512\n",
      "Epoch 11/50\n",
      "8/8 [==============================] - 0s 10ms/step - loss: 0.2156 - accuracy: 0.9651 - val_loss: 0.6144 - val_accuracy: 0.9512\n",
      "Epoch 12/50\n",
      "8/8 [==============================] - 0s 11ms/step - loss: 0.2138 - accuracy: 0.9825 - val_loss: 0.5961 - val_accuracy: 0.9512\n",
      "Epoch 13/50\n",
      "8/8 [==============================] - 0s 11ms/step - loss: 0.1531 - accuracy: 0.9738 - val_loss: 0.5755 - val_accuracy: 0.9512\n",
      "Epoch 14/50\n",
      "8/8 [==============================] - 0s 11ms/step - loss: 0.1713 - accuracy: 0.9869 - val_loss: 0.5657 - val_accuracy: 0.9512\n",
      "Epoch 15/50\n",
      "8/8 [==============================] - 0s 11ms/step - loss: 0.1506 - accuracy: 0.9869 - val_loss: 0.5689 - val_accuracy: 0.9512\n",
      "Epoch 16/50\n",
      "8/8 [==============================] - 0s 11ms/step - loss: 0.1332 - accuracy: 0.9913 - val_loss: 0.5635 - val_accuracy: 0.9512\n",
      "Epoch 17/50\n",
      "8/8 [==============================] - 0s 10ms/step - loss: 0.1588 - accuracy: 0.9913 - val_loss: 0.5752 - val_accuracy: 0.9512\n",
      "Epoch 18/50\n",
      "8/8 [==============================] - 0s 11ms/step - loss: 0.0936 - accuracy: 0.9956 - val_loss: 0.5643 - val_accuracy: 0.9512\n",
      "Epoch 19/50\n",
      "8/8 [==============================] - 0s 10ms/step - loss: 0.0650 - accuracy: 1.0000 - val_loss: 0.5778 - val_accuracy: 0.9512\n",
      "Epoch 20/50\n",
      "8/8 [==============================] - 0s 11ms/step - loss: 0.0390 - accuracy: 1.0000 - val_loss: 0.6621 - val_accuracy: 0.9512\n",
      "Epoch 21/50\n",
      "8/8 [==============================] - 0s 11ms/step - loss: 0.1265 - accuracy: 0.9782 - val_loss: 0.5741 - val_accuracy: 0.9512\n",
      "Epoch 22/50\n",
      "8/8 [==============================] - 0s 11ms/step - loss: 0.1852 - accuracy: 0.9825 - val_loss: 0.5852 - val_accuracy: 0.9512\n",
      "Epoch 23/50\n",
      "8/8 [==============================] - 0s 10ms/step - loss: 0.0976 - accuracy: 1.0000 - val_loss: 0.5775 - val_accuracy: 0.9512\n",
      "Epoch 24/50\n",
      "8/8 [==============================] - 0s 10ms/step - loss: 0.0864 - accuracy: 1.0000 - val_loss: 0.5905 - val_accuracy: 0.9512\n",
      "Epoch 25/50\n",
      "8/8 [==============================] - 0s 10ms/step - loss: 0.0967 - accuracy: 0.9956 - val_loss: 0.6239 - val_accuracy: 0.9512\n",
      "Epoch 26/50\n",
      "8/8 [==============================] - 0s 10ms/step - loss: 0.0577 - accuracy: 1.0000 - val_loss: 0.6581 - val_accuracy: 0.9512\n",
      "Epoch 27/50\n",
      "8/8 [==============================] - 0s 12ms/step - loss: 0.0413 - accuracy: 1.0000 - val_loss: 0.7185 - val_accuracy: 0.9512\n",
      "Epoch 28/50\n",
      "8/8 [==============================] - 0s 10ms/step - loss: 0.0386 - accuracy: 1.0000 - val_loss: 0.8252 - val_accuracy: 0.9512\n",
      "Epoch 29/50\n",
      "8/8 [==============================] - 0s 11ms/step - loss: 0.0298 - accuracy: 1.0000 - val_loss: 0.9708 - val_accuracy: 0.9512\n",
      "Epoch 30/50\n",
      "8/8 [==============================] - 0s 12ms/step - loss: 0.0278 - accuracy: 1.0000 - val_loss: 1.1857 - val_accuracy: 0.9512\n",
      "Epoch 31/50\n",
      "8/8 [==============================] - 0s 11ms/step - loss: 0.0169 - accuracy: 1.0000 - val_loss: 1.4188 - val_accuracy: 0.9512\n",
      "Epoch 32/50\n",
      "8/8 [==============================] - 0s 11ms/step - loss: 0.0088 - accuracy: 1.0000 - val_loss: 1.7496 - val_accuracy: 0.9512\n",
      "Epoch 33/50\n",
      "8/8 [==============================] - 0s 11ms/step - loss: 0.1954 - accuracy: 0.9869 - val_loss: 1.0045 - val_accuracy: 0.9512\n",
      "Epoch 34/50\n",
      "8/8 [==============================] - 0s 11ms/step - loss: 0.1661 - accuracy: 0.9956 - val_loss: 0.2933 - val_accuracy: 0.9756\n",
      "Epoch 35/50\n",
      "8/8 [==============================] - 0s 11ms/step - loss: 0.0792 - accuracy: 1.0000 - val_loss: 0.1939 - val_accuracy: 1.0000\n",
      "Epoch 36/50\n",
      "8/8 [==============================] - 0s 10ms/step - loss: 0.0888 - accuracy: 0.9956 - val_loss: 0.1797 - val_accuracy: 1.0000\n",
      "Epoch 37/50\n",
      "8/8 [==============================] - 0s 11ms/step - loss: 0.0643 - accuracy: 0.9956 - val_loss: 0.1581 - val_accuracy: 1.0000\n",
      "Epoch 38/50\n",
      "8/8 [==============================] - 0s 11ms/step - loss: 0.0522 - accuracy: 1.0000 - val_loss: 0.1386 - val_accuracy: 1.0000\n",
      "Epoch 39/50\n",
      "8/8 [==============================] - 0s 11ms/step - loss: 0.0455 - accuracy: 1.0000 - val_loss: 0.1230 - val_accuracy: 0.9756\n",
      "Epoch 40/50\n",
      "8/8 [==============================] - 0s 11ms/step - loss: 0.1130 - accuracy: 0.9956 - val_loss: 0.0876 - val_accuracy: 1.0000\n",
      "Epoch 41/50\n",
      "8/8 [==============================] - 0s 11ms/step - loss: 0.0567 - accuracy: 0.9913 - val_loss: 0.0893 - val_accuracy: 1.0000\n",
      "Epoch 42/50\n",
      "8/8 [==============================] - 0s 11ms/step - loss: 0.0524 - accuracy: 1.0000 - val_loss: 0.0910 - val_accuracy: 1.0000\n",
      "Epoch 43/50\n",
      "8/8 [==============================] - 0s 11ms/step - loss: 0.0432 - accuracy: 1.0000 - val_loss: 0.0834 - val_accuracy: 1.0000\n",
      "Epoch 44/50\n",
      "8/8 [==============================] - 0s 11ms/step - loss: 0.0367 - accuracy: 1.0000 - val_loss: 0.0744 - val_accuracy: 1.0000\n",
      "Epoch 45/50\n",
      "8/8 [==============================] - 0s 11ms/step - loss: 0.0381 - accuracy: 1.0000 - val_loss: 0.0640 - val_accuracy: 1.0000\n",
      "Epoch 46/50\n",
      "8/8 [==============================] - 0s 10ms/step - loss: 0.0271 - accuracy: 1.0000 - val_loss: 0.0529 - val_accuracy: 1.0000\n",
      "Epoch 47/50\n",
      "8/8 [==============================] - 0s 11ms/step - loss: 0.0314 - accuracy: 1.0000 - val_loss: 0.0432 - val_accuracy: 1.0000\n",
      "Epoch 48/50\n",
      "8/8 [==============================] - 0s 11ms/step - loss: 0.0295 - accuracy: 1.0000 - val_loss: 0.0347 - val_accuracy: 1.0000\n",
      "Epoch 49/50\n",
      "8/8 [==============================] - 0s 11ms/step - loss: 0.0271 - accuracy: 1.0000 - val_loss: 0.0271 - val_accuracy: 1.0000\n",
      "Epoch 50/50\n",
      "8/8 [==============================] - 0s 11ms/step - loss: 0.0668 - accuracy: 0.9913 - val_loss: 0.0405 - val_accuracy: 1.0000\n"
     ]
    },
    {
     "data": {
      "text/plain": [
       "<keras.callbacks.History at 0x1d09de78b20>"
      ]
     },
     "execution_count": 84,
     "metadata": {},
     "output_type": "execute_result"
    }
   ],
   "source": [
    "siamese_net = SiamesNet()\n",
    "siamese_net.compile(loss=\"binary_crossentropy\", optimizer=Adam(learning_rate=1e-3), metrics=['accuracy'])\n",
    "\n",
    "siamese_net.fit([train_left_input, train_right_input], train_targets, validation_split=0.15, epochs=50)"
   ]
  },
  {
   "cell_type": "markdown",
   "id": "8a07be54-f516-40eb-9fb7-c8aa8138f3e7",
   "metadata": {},
   "source": [
    "### Predictions"
   ]
  },
  {
   "cell_type": "code",
   "execution_count": 110,
   "id": "e7b344b3-8c77-4ecc-9d14-8dbce446b3b0",
   "metadata": {
    "tags": []
   },
   "outputs": [
    {
     "name": "stdout",
     "output_type": "stream",
     "text": [
      "3/3 [==============================] - 0s 4ms/step\n"
     ]
    }
   ],
   "source": [
    "y_pred = siamese_net.predict([test_left_input, test_right_input])"
   ]
  },
  {
   "cell_type": "code",
   "execution_count": 123,
   "id": "e0e55023-0e41-48ca-90e1-73b3ba13cf22",
   "metadata": {
    "tags": []
   },
   "outputs": [
    {
     "ename": "ValueError",
     "evalue": "Classification metrics can't handle a mix of binary and continuous targets",
     "output_type": "error",
     "traceback": [
      "\u001b[1;31m---------------------------------------------------------------------------\u001b[0m",
      "\u001b[1;31mValueError\u001b[0m                                Traceback (most recent call last)",
      "Cell \u001b[1;32mIn[123], line 1\u001b[0m\n\u001b[1;32m----> 1\u001b[0m \u001b[38;5;28mprint\u001b[39m(\u001b[43mclassification_report\u001b[49m\u001b[43m(\u001b[49m\u001b[43mtest_targets\u001b[49m\u001b[43m,\u001b[49m\u001b[43m \u001b[49m\u001b[43my_pred\u001b[49m\u001b[43m)\u001b[49m)\n",
      "File \u001b[1;32m~\\Desktop\\Profissional\\git\\tcc-anomaly-detection\\venv\\lib\\site-packages\\sklearn\\metrics\\_classification.py:2310\u001b[0m, in \u001b[0;36mclassification_report\u001b[1;34m(y_true, y_pred, labels, target_names, sample_weight, digits, output_dict, zero_division)\u001b[0m\n\u001b[0;32m   2195\u001b[0m \u001b[38;5;28;01mdef\u001b[39;00m \u001b[38;5;21mclassification_report\u001b[39m(\n\u001b[0;32m   2196\u001b[0m     y_true,\n\u001b[0;32m   2197\u001b[0m     y_pred,\n\u001b[1;32m   (...)\u001b[0m\n\u001b[0;32m   2204\u001b[0m     zero_division\u001b[38;5;241m=\u001b[39m\u001b[38;5;124m\"\u001b[39m\u001b[38;5;124mwarn\u001b[39m\u001b[38;5;124m\"\u001b[39m,\n\u001b[0;32m   2205\u001b[0m ):\n\u001b[0;32m   2206\u001b[0m \u001b[38;5;250m    \u001b[39m\u001b[38;5;124;03m\"\"\"Build a text report showing the main classification metrics.\u001b[39;00m\n\u001b[0;32m   2207\u001b[0m \n\u001b[0;32m   2208\u001b[0m \u001b[38;5;124;03m    Read more in the :ref:`User Guide <classification_report>`.\u001b[39;00m\n\u001b[1;32m   (...)\u001b[0m\n\u001b[0;32m   2307\u001b[0m \u001b[38;5;124;03m    <BLANKLINE>\u001b[39;00m\n\u001b[0;32m   2308\u001b[0m \u001b[38;5;124;03m    \"\"\"\u001b[39;00m\n\u001b[1;32m-> 2310\u001b[0m     y_type, y_true, y_pred \u001b[38;5;241m=\u001b[39m \u001b[43m_check_targets\u001b[49m\u001b[43m(\u001b[49m\u001b[43my_true\u001b[49m\u001b[43m,\u001b[49m\u001b[43m \u001b[49m\u001b[43my_pred\u001b[49m\u001b[43m)\u001b[49m\n\u001b[0;32m   2312\u001b[0m     \u001b[38;5;28;01mif\u001b[39;00m labels \u001b[38;5;129;01mis\u001b[39;00m \u001b[38;5;28;01mNone\u001b[39;00m:\n\u001b[0;32m   2313\u001b[0m         labels \u001b[38;5;241m=\u001b[39m unique_labels(y_true, y_pred)\n",
      "File \u001b[1;32m~\\Desktop\\Profissional\\git\\tcc-anomaly-detection\\venv\\lib\\site-packages\\sklearn\\metrics\\_classification.py:95\u001b[0m, in \u001b[0;36m_check_targets\u001b[1;34m(y_true, y_pred)\u001b[0m\n\u001b[0;32m     92\u001b[0m     y_type \u001b[38;5;241m=\u001b[39m {\u001b[38;5;124m\"\u001b[39m\u001b[38;5;124mmulticlass\u001b[39m\u001b[38;5;124m\"\u001b[39m}\n\u001b[0;32m     94\u001b[0m \u001b[38;5;28;01mif\u001b[39;00m \u001b[38;5;28mlen\u001b[39m(y_type) \u001b[38;5;241m>\u001b[39m \u001b[38;5;241m1\u001b[39m:\n\u001b[1;32m---> 95\u001b[0m     \u001b[38;5;28;01mraise\u001b[39;00m \u001b[38;5;167;01mValueError\u001b[39;00m(\n\u001b[0;32m     96\u001b[0m         \u001b[38;5;124m\"\u001b[39m\u001b[38;5;124mClassification metrics can\u001b[39m\u001b[38;5;124m'\u001b[39m\u001b[38;5;124mt handle a mix of \u001b[39m\u001b[38;5;132;01m{0}\u001b[39;00m\u001b[38;5;124m and \u001b[39m\u001b[38;5;132;01m{1}\u001b[39;00m\u001b[38;5;124m targets\u001b[39m\u001b[38;5;124m\"\u001b[39m\u001b[38;5;241m.\u001b[39mformat(\n\u001b[0;32m     97\u001b[0m             type_true, type_pred\n\u001b[0;32m     98\u001b[0m         )\n\u001b[0;32m     99\u001b[0m     )\n\u001b[0;32m    101\u001b[0m \u001b[38;5;66;03m# We can't have more than one value on y_type => The set is no more needed\u001b[39;00m\n\u001b[0;32m    102\u001b[0m y_type \u001b[38;5;241m=\u001b[39m y_type\u001b[38;5;241m.\u001b[39mpop()\n",
      "\u001b[1;31mValueError\u001b[0m: Classification metrics can't handle a mix of binary and continuous targets"
     ]
    }
   ],
   "source": [
    "print(classification_report(test_targets, y_pred))"
   ]
  },
  {
   "cell_type": "code",
   "execution_count": null,
   "id": "9d4150cd-1a64-41dc-853b-3548f2599389",
   "metadata": {},
   "outputs": [],
   "source": []
  }
 ],
 "metadata": {
  "kernelspec": {
   "display_name": "Python 3 (ipykernel)",
   "language": "python",
   "name": "python3"
  },
  "language_info": {
   "codemirror_mode": {
    "name": "ipython",
    "version": 3
   },
   "file_extension": ".py",
   "mimetype": "text/x-python",
   "name": "python",
   "nbconvert_exporter": "python",
   "pygments_lexer": "ipython3",
   "version": "3.9.12"
  }
 },
 "nbformat": 4,
 "nbformat_minor": 5
}
